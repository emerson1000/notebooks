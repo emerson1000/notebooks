{
  "nbformat": 4,
  "nbformat_minor": 0,
  "metadata": {
    "colab": {
      "provenance": [],
      "include_colab_link": true
    },
    "kernelspec": {
      "name": "python3",
      "display_name": "Python 3"
    },
    "language_info": {
      "name": "python"
    }
  },
  "cells": [
    {
      "cell_type": "markdown",
      "metadata": {
        "id": "view-in-github",
        "colab_type": "text"
      },
      "source": [
        "<a href=\"https://colab.research.google.com/github/emerson1000/notebooks/blob/main/Optimizacion_sistema_espera_(1).ipynb\" target=\"_parent\"><img src=\"https://colab.research.google.com/assets/colab-badge.svg\" alt=\"Open In Colab\"/></a>"
      ]
    },
    {
      "cell_type": "markdown",
      "source": [
        "## **Optimización de parámetros en sistemas de espera**\n",
        "\n"
      ],
      "metadata": {
        "id": "vXQK6RxNdTvZ"
      }
    },
    {
      "cell_type": "markdown",
      "source": [
        "**Utilizaremos un ejemplo de sistema MMC.**\n",
        "\n",
        "Aquí, se utilizará el módulo scipy.optimize de la biblioteca SciPy para realizar una búsqueda de parámetros óptimos en el sistema MMC. El objetivo será minimizar el tiempo promedio de espera en la cola. Tendremos como variables a optimizar el número de servidores (entre 1 y 20) y la capacidad de espera (entre 0 y 100)."
      ],
      "metadata": {
        "id": "3gWzmMoGebJa"
      }
    },
    {
      "cell_type": "code",
      "execution_count": null,
      "metadata": {
        "colab": {
          "base_uri": "https://localhost:8080/"
        },
        "id": "Sg8kwBm2aomM",
        "outputId": "07f9e39a-5016-45ed-bdd2-3b1415347713"
      },
      "outputs": [
        {
          "output_type": "stream",
          "name": "stdout",
          "text": [
            "Requirement already satisfied: simpy in /usr/local/lib/python3.10/dist-packages (4.0.2)\n"
          ]
        }
      ],
      "source": [
        "pip install simpy"
      ]
    },
    {
      "cell_type": "code",
      "source": [
        "pip install scipy"
      ],
      "metadata": {
        "colab": {
          "base_uri": "https://localhost:8080/"
        },
        "id": "wsrY7Ge2bQ7r",
        "outputId": "26e16537-7754-4c2c-95e2-fd9ce7860b35"
      },
      "execution_count": null,
      "outputs": [
        {
          "output_type": "stream",
          "name": "stdout",
          "text": [
            "Requirement already satisfied: scipy in /usr/local/lib/python3.10/dist-packages (1.11.3)\n",
            "Requirement already satisfied: numpy<1.28.0,>=1.21.6 in /usr/local/lib/python3.10/dist-packages (from scipy) (1.23.5)\n"
          ]
        }
      ]
    },
    {
      "cell_type": "code",
      "source": [
        "import simpy\n",
        "import random\n",
        "\n",
        "# Parámetros del sistema\n",
        "llegada_media = 7  # Tasa media de llegada de clientes (clientes por minuto)\n",
        "servicio_media = 5  # Tasa media de servicio (clientes por minuto)\n",
        "tiempo_simulacion = 480  # Tiempo total de simulación en minutos\n",
        "\n",
        "# Listas para registrar tiempos de llegada y tiempos de inicio de servicio\n",
        "tiempos_llegada = []\n",
        "tiempos_inicio_servicio = []\n",
        "\n",
        "# Función para simular el proceso de llegada de clientes\n",
        "def llegada_clientes(env, servidor):\n",
        "    while True:\n",
        "        yield env.timeout(random.expovariate(1/llegada_media))\n",
        "        tiempos_llegada.append(env.now)\n",
        "        env.process(servicio_cliente(env, servidor))\n",
        "\n",
        "# Función para simular el proceso de servicio a los clientes\n",
        "def servicio_cliente(env, servidor):\n",
        "    with servidor.request() as req:\n",
        "        yield req\n",
        "        tiempos_inicio_servicio.append(env.now)\n",
        "        yield env.timeout(random.expovariate(1/servicio_media))\n",
        "\n",
        "# Configuración de la simulación\n",
        "env = simpy.Environment()\n",
        "servidor = simpy.Resource(env, capacity=2)  # Servidores\n",
        "env.process(llegada_clientes(env, servidor))\n",
        "\n",
        "# Ejecutar la simulación\n",
        "env.run(until=tiempo_simulacion)\n",
        "\n",
        "# Calcular métricas de rendimiento\n",
        "tiempo_promedio_espera = sum(tiempo_inicio - tiempo_llegada for tiempo_inicio, tiempo_llegada in zip(tiempos_inicio_servicio, tiempos_llegada)) / len(tiempos_llegada)\n",
        "longitud_promedio_cola = tiempo_promedio_espera * llegada_media\n",
        "print(f\"Tiempo promedio de espera: {tiempo_promedio_espera:.2f} minutos\")\n",
        "print(f\"Longitud promedio de la cola: {longitud_promedio_cola:.2f} clientes\")\n",
        "\n"
      ],
      "metadata": {
        "colab": {
          "base_uri": "https://localhost:8080/"
        },
        "id": "24zHv-S7ayKC",
        "outputId": "acf9963d-fd82-467f-c7d5-ac411d8e3f32"
      },
      "execution_count": null,
      "outputs": [
        {
          "output_type": "stream",
          "name": "stdout",
          "text": [
            "Tiempo promedio de espera: 0.20 minutos\n",
            "Longitud promedio de la cola: 1.41 clientes\n"
          ]
        }
      ]
    },
    {
      "cell_type": "markdown",
      "source": [
        "**Interpretación**\n",
        "\n",
        "Tiempo Promedio de Espera: El tiempo promedio de espera es de aproximadamente 0.43 minutos. Esto significa que, en promedio, un cliente espera alrededor de 0.43 minutos antes de ser atendido por un servidor. Cuanto menor sea este valor, mejor, ya que indica tiempos de espera más cortos para los clientes.\n",
        "\n",
        "Longitud Promedio de la Cola: La longitud promedio de la cola es de aproximadamente 2.98 clientes. Esto significa que, en promedio, hay alrededor de 2.98 clientes esperando en la cola en un momento dado. Cuanto menor sea este valor, menor será la congestión en la cola y, en general, será un sistema más eficiente."
      ],
      "metadata": {
        "id": "hg2-UMX0jfG7"
      }
    },
    {
      "cell_type": "code",
      "source": [
        "import simpy\n",
        "import random\n",
        "import numpy as np\n",
        "from scipy.optimize import minimize\n",
        "\n",
        "# Parámetros del sistema\n",
        "llegada_media = 7  # Tasa media de llegada de clientes (clientes por minuto)\n",
        "tiempo_simulacion = 480  # Tiempo total de simulación en minutos\n",
        "max_servidores = 2  # Número máximo de servidores\n",
        "max_capacidad_cola = 10  # Capacidad máxima de la cola\n",
        "\n",
        "# Función para simular el sistema y calcular los costos\n",
        "def simular_sistema(num_servidores, capacidad_cola):\n",
        "    env = simpy.Environment()\n",
        "    servidor = simpy.Resource(env, capacity=num_servidores)\n",
        "    tiempos_llegada = []\n",
        "    tiempos_inicio_servicio = []\n",
        "\n",
        "    def llegada_clientes(env, servidor):\n",
        "        while True:\n",
        "            yield env.timeout(random.expovariate(1/llegada_media))\n",
        "            tiempos_llegada.append(env.now)\n",
        "            env.process(servicio_cliente(env, servidor))\n",
        "\n",
        "    def servicio_cliente(env, servidor):\n",
        "        with servidor.request() as req:\n",
        "            yield req\n",
        "            tiempos_inicio_servicio.append(env.now)\n",
        "            yield env.timeout(random.expovariate(1/servicio_media))\n",
        "\n",
        "    env.process(llegada_clientes(env, servidor))\n",
        "    env.run(until=tiempo_simulacion)\n",
        "\n",
        "    if len(tiempos_inicio_servicio) != len(tiempos_llegada):\n",
        "        return None  # La simulación no se completó correctamente\n",
        "\n",
        "    tiempo_promedio_espera = np.mean(np.array(tiempos_inicio_servicio) - np.array(tiempos_llegada))\n",
        "    longitud_promedio_cola = tiempo_promedio_espera * llegada_media\n",
        "\n",
        "    # Calcular costos\n",
        "    costos_operacion = num_servidores * tiempo_promedio_espera\n",
        "    costos_espera = longitud_promedio_cola * tiempo_promedio_espera\n",
        "\n",
        "    # Costo total: una combinación ponderada de costos de operación y costos de espera\n",
        "    costo_total = 0.7 * costos_operacion + 0.3 * costos_espera\n",
        "\n",
        "    return costo_total\n",
        "\n",
        "# Función de optimización para encontrar la combinación óptima de servidores y capacidad de espera\n",
        "def optimizar_sistema(params):\n",
        "    num_servidores, capacidad_cola = params\n",
        "    costo = simular_sistema(num_servidores, capacidad_cola)\n",
        "    if costo is None:\n",
        "        # Penalizar configuraciones que no completaron la simulación\n",
        "        return 1e6  # Un valor grande para penalizar\n",
        "    return costo\n",
        "\n",
        "# Optimización utilizando minimize\n",
        "resultado = minimize(optimizar_sistema, [1, 1], bounds=[(1, max_servidores), (0, max_capacidad_cola)], method='L-BFGS-B')\n",
        "\n",
        "# Resultados óptimos\n",
        "num_servidores_optimo, capacidad_cola_optima = resultado.x\n",
        "costo_optimo = resultado.fun\n",
        "\n",
        "print(f\"Número óptimo de servidores: {int(num_servidores_optimo)}\")\n",
        "print(f\"Capacidad óptima de la cola: {int(capacidad_cola_optima)}\")\n",
        "print(f\"Costo óptimo: ${costo_optimo:.2f}\")\n"
      ],
      "metadata": {
        "colab": {
          "base_uri": "https://localhost:8080/"
        },
        "id": "Gcsve4g6g_n0",
        "outputId": "7e1148c1-53d6-400b-f32d-4923e0f00bfe"
      },
      "execution_count": null,
      "outputs": [
        {
          "output_type": "stream",
          "name": "stdout",
          "text": [
            "Número óptimo de servidores: 1\n",
            "Capacidad óptima de la cola: 0\n",
            "Costo óptimo: $0.70\n"
          ]
        }
      ]
    },
    {
      "cell_type": "markdown",
      "source": [
        "**Interpretación**\n",
        "\n",
        "Número óptimo de servidores: 1: Según la optimización, el número óptimo de servidores en el sistema de colas es 1. Esto significa que, según los criterios utilizados en la optimización (en este caso, minimizar los costos totales), se determinó que un solo servidor es la configuración óptima.\n",
        "\n",
        "Capacidad óptima de la cola: 1: La capacidad óptima de la cola es de 1. Esto indica que se ha encontrado que mantener solo un cliente en la cola es la configuración óptima. En otras palabras, cuando un servidor está ocupado y un cliente adicional llega, solo se permite que un cliente espere en la cola. Los clientes adicionales que lleguen mientras la cola esté llena pueden ser rechazados o tratados de manera diferente según las reglas del sistema.\n",
        "\n",
        "Costo óptimo: 1000000.00: El costo óptimo calculado en esta configuración es de 1,000,000.00. Esto es una cifra bastante alta y podría indicar que, en esta configuración, se están incurriendo en costos significativos debido a tiempos de espera prolongados o ineficiencias en el sistema. Sin embargo, es importante recordar que los valores de costo son relativos y dependen de la ponderación de los costos de operación y los costos de espera en la función de costo utilizada en la optimización."
      ],
      "metadata": {
        "id": "nB9K-SrbdROJ"
      }
    },
    {
      "cell_type": "markdown",
      "source": [
        "## **Costos de espera**"
      ],
      "metadata": {
        "id": "enSUdZQFgzLX"
      }
    },
    {
      "cell_type": "markdown",
      "source": [
        "Supongamos que el costo de espera por minuto por cliente es de 1 (unidad monetaria). Si el tiempo promedio de espera es de 5 minutos y tienes 10 clientes esperando, el costo de espera sería de $50."
      ],
      "metadata": {
        "id": "4fVvRxXRg2ur"
      }
    },
    {
      "cell_type": "code",
      "source": [
        "costo_por_minuto_por_cliente = 1\n",
        "tiempo_promedio_espera = 5  # minutos\n",
        "cantidad_clientes_en_espera = 10\n",
        "costo_espera_total = costo_por_minuto_por_cliente * tiempo_promedio_espera * cantidad_clientes_en_espera\n",
        "print(f\"Costo total de espera: ${int(costo_espera_total)}\")"
      ],
      "metadata": {
        "colab": {
          "base_uri": "https://localhost:8080/"
        },
        "id": "guHNtzsjdQ8e",
        "outputId": "7823d822-d75d-4c0b-ecf2-b69889b38fcd"
      },
      "execution_count": null,
      "outputs": [
        {
          "output_type": "stream",
          "name": "stdout",
          "text": [
            "Costo total de espera: $50\n"
          ]
        }
      ]
    },
    {
      "cell_type": "markdown",
      "source": [
        "### Costo de espera con simulación"
      ],
      "metadata": {
        "id": "7HFvyQe7lfQc"
      }
    },
    {
      "cell_type": "code",
      "source": [
        "import simpy\n",
        "import random\n",
        "\n",
        "# Parámetros del sistema\n",
        "llegada_media = 5  # Tasa media de llegada de clientes (clientes por minuto)\n",
        "servicio_media = 3  # Tasa media de servicio (clientes por minuto)\n",
        "tiempo_simulacion = 480  # Tiempo total de simulación en minutos\n",
        "\n",
        "# Listas para registrar tiempos de llegada y tiempos de inicio de servicio\n",
        "tiempos_llegada = []\n",
        "tiempos_inicio_servicio = []\n",
        "\n",
        "# Costo de espera por minuto (reemplaza con tu valor)\n",
        "costo_espera_por_minuto = 10  # Ejemplo: $10 por minuto\n",
        "\n",
        "# Función para simular el proceso de llegada de clientes\n",
        "def llegada_clientes(env, servidor):\n",
        "    while True:\n",
        "        yield env.timeout(random.expovariate(1/llegada_media))\n",
        "        tiempos_llegada.append(env.now)\n",
        "        env.process(servicio_cliente(env, servidor))\n",
        "\n",
        "# Función para simular el proceso de servicio a los clientes\n",
        "def servicio_cliente(env, servidor):\n",
        "    with servidor.request() as req:\n",
        "        yield req\n",
        "        tiempos_inicio_servicio.append(env.now)\n",
        "        yield env.timeout(random.expovariate(1/servicio_media))\n",
        "\n",
        "# Configuración de la simulación\n",
        "env = simpy.Environment()\n",
        "servidor = simpy.Resource(env, capacity=1)  # Servidor único\n",
        "env.process(llegada_clientes(env, servidor))\n",
        "\n",
        "# Ejecutar la simulación\n",
        "env.run(until=tiempo_simulacion)\n",
        "\n",
        "# Calcular métricas de rendimiento\n",
        "tiempo_promedio_espera = sum(tiempo_inicio - tiempo_llegada for tiempo_inicio, tiempo_llegada in zip(tiempos_inicio_servicio, tiempos_llegada)) / len(tiempos_llegada)\n",
        "longitud_promedio_cola = tiempo_promedio_espera * llegada_media\n",
        "\n",
        "# Calcular costos de espera\n",
        "costo_espera = tiempo_promedio_espera * costo_espera_por_minuto\n",
        "\n",
        "print(f\"Tiempo promedio de espera: {tiempo_promedio_espera:.2f} minutos\")\n",
        "print(f\"Longitud promedio de la cola: {longitud_promedio_cola:.2f} clientes\")\n",
        "print(f\"Costo de espera: ${costo_espera:.2f}\")\n"
      ],
      "metadata": {
        "colab": {
          "base_uri": "https://localhost:8080/"
        },
        "id": "56ELJ0B0lD9Q",
        "outputId": "dd96865f-018e-4c39-e08e-a4b4cd4206cc"
      },
      "execution_count": null,
      "outputs": [
        {
          "output_type": "stream",
          "name": "stdout",
          "text": [
            "Tiempo promedio de espera: 3.69 minutos\n",
            "Longitud promedio de la cola: 18.45 clientes\n",
            "Costo de espera: $36.91\n"
          ]
        }
      ]
    },
    {
      "cell_type": "markdown",
      "source": [
        "## **Costo de linea o servidores**"
      ],
      "metadata": {
        "id": "siL_XtfNhFBj"
      }
    },
    {
      "cell_type": "markdown",
      "source": [
        "Supongamos que el costo de operar un servidor es de 50 (um) por hora y tienes 2 servidores trabajando durante 8 horas al día. El costo de la línea sería de $800 por día."
      ],
      "metadata": {
        "id": "EYcWwuWYhEns"
      }
    },
    {
      "cell_type": "code",
      "source": [
        "costo_por_servidor_por_hora = 50\n",
        "numero_de_servidores = 2\n",
        "horas_por_dia = 8\n",
        "costo_linea_total = costo_por_servidor_por_hora * numero_de_servidores * horas_por_dia\n",
        "print(f\"Costo de línea total: ${int(costo_linea_total)}\")"
      ],
      "metadata": {
        "colab": {
          "base_uri": "https://localhost:8080/"
        },
        "id": "FTiSgxlxhUjQ",
        "outputId": "9b40ee7c-82bf-4e15-a8a4-0867a78d6903"
      },
      "execution_count": null,
      "outputs": [
        {
          "output_type": "stream",
          "name": "stdout",
          "text": [
            "Costo de línea total: $800\n"
          ]
        }
      ]
    },
    {
      "cell_type": "markdown",
      "source": [
        "El equilibrio entre estos dos costos se encuentra ajustando la cantidad de servidores y la capacidad de la cola. Un aumento en el número de servidores generalmente reduce el costo de espera, pero aumenta el costo de la línea. Por otro lado, una mayor capacidad de la cola puede reducir el costo de espera al permitir que más clientes esperen, pero también puede aumentar los costos de operación."
      ],
      "metadata": {
        "id": "ATMU3NwEh107"
      }
    },
    {
      "cell_type": "markdown",
      "source": [
        "### Costo de servidores mediante simulación"
      ],
      "metadata": {
        "id": "EoTOTo31mfSZ"
      }
    },
    {
      "cell_type": "code",
      "source": [
        "import simpy\n",
        "import random\n",
        "\n",
        "# Parámetros del sistema\n",
        "llegada_media = 5  # Tasa media de llegada de clientes (clientes por minuto)\n",
        "servicio_media = 6  # Tasa media de servicio (clientes por minuto)\n",
        "tiempo_simulacion = 480  # Tiempo total de simulación en minutos\n",
        "\n",
        "# Costo de operación por servidor por minuto (reemplaza con tu valor)\n",
        "costo_operacion_por_minuto = 20  # Ejemplo: $20 por minuto por servidor\n",
        "\n",
        "# Función para simular el sistema y calcular los costos\n",
        "def simular_sistema(num_servidores):\n",
        "    env = simpy.Environment()\n",
        "    servidor = simpy.Resource(env, capacity=num_servidores)\n",
        "    tiempos_llegada = []\n",
        "    tiempos_inicio_servicio = []\n",
        "\n",
        "    def llegada_clientes(env, servidor):\n",
        "        while True:\n",
        "            yield env.timeout(random.expovariate(1/llegada_media))\n",
        "            tiempos_llegada.append(env.now)\n",
        "            env.process(servicio_cliente(env, servidor))\n",
        "\n",
        "    def servicio_cliente(env, servidor):\n",
        "        with servidor.request() as req:\n",
        "            yield req\n",
        "            tiempos_inicio_servicio.append(env.now)\n",
        "            yield env.timeout(random.expovariate(1/servicio_media))\n",
        "\n",
        "    env.process(llegada_clientes(env, servidor))\n",
        "    env.run(until=tiempo_simulacion)\n",
        "\n",
        "    tiempo_promedio_espera = sum(tiempo_inicio - tiempo_llegada for tiempo_inicio, tiempo_llegada in zip(tiempos_inicio_servicio, tiempos_llegada)) / len(tiempos_llegada)\n",
        "\n",
        "    # Costo de operación\n",
        "    costo_operacion = num_servidores * costo_operacion_por_minuto * tiempo_simulacion\n",
        "\n",
        "    return costo_operacion\n",
        "\n",
        "# Algoritmo para encontrar el número óptimo de servidores\n",
        "num_servidores_optimo = None\n",
        "costo_optimo = float('inf')  # Inicializar con un valor alto\n",
        "\n",
        "for num_servidores in range(1, 11):  # Prueba con diferentes números de servidores (de 1 a 10)\n",
        "    costo = simular_sistema(num_servidores)\n",
        "    if costo < costo_optimo:\n",
        "        costo_optimo = costo\n",
        "        num_servidores_optimo = num_servidores\n",
        "\n",
        "print(f\"Número óptimo de servidores: {num_servidores_optimo}\")\n",
        "print(f\"Costo óptimo de línea: ${costo_optimo:.2f}\")"
      ],
      "metadata": {
        "colab": {
          "base_uri": "https://localhost:8080/"
        },
        "id": "3DVvN--Zmizg",
        "outputId": "f2604bd3-14e5-4299-aeb7-d7a7e9b56136"
      },
      "execution_count": null,
      "outputs": [
        {
          "output_type": "stream",
          "name": "stdout",
          "text": [
            "Número óptimo de servidores: 1\n",
            "Costo óptimo de línea: $9600.00\n"
          ]
        }
      ]
    },
    {
      "cell_type": "markdown",
      "source": [
        "## **Capacidad de la cola**"
      ],
      "metadata": {
        "id": "GdbcT3h_ieyH"
      }
    },
    {
      "cell_type": "markdown",
      "source": [
        "Supongamos que estás diseñando un sistema de cola para un centro de llamadas y que la capacidad de la cola es de 20 clientes. Si en un momento dado hay 25 clientes esperando, los cinco clientes adicionales se considerarán \"perdidos\" o \"rechazados\" debido a que la capacidad de la cola se ha alcanzado."
      ],
      "metadata": {
        "id": "iJt0X45XihiC"
      }
    },
    {
      "cell_type": "code",
      "source": [
        "capacidad_de_cola = 20\n",
        "clientes_en_espera = 25\n",
        "\n",
        "if clientes_en_espera > capacidad_de_cola:\n",
        "    clientes_perdidos = clientes_en_espera - capacidad_de_cola\n",
        "    print(f\"{clientes_perdidos} clientes fueron rechazados debido a que la capacidad de la cola se alcanzó.\")\n"
      ],
      "metadata": {
        "colab": {
          "base_uri": "https://localhost:8080/"
        },
        "id": "pW-lDxtHiiyA",
        "outputId": "fd754200-bac0-4424-8999-382b338e7ce6"
      },
      "execution_count": null,
      "outputs": [
        {
          "output_type": "stream",
          "name": "stdout",
          "text": [
            "5 clientes fueron rechazados debido a que la capacidad de la cola se alcanzó.\n"
          ]
        }
      ]
    },
    {
      "cell_type": "markdown",
      "source": [
        "La capacidad de la cola es un parámetro crítico que debe ajustarse cuidadosamente en función de la demanda prevista y los recursos disponibles. Un aumento en la capacidad de la cola puede reducir la tasa de rechazo de clientes, pero también puede aumentar los costos operativos debido a una cola más larga y la necesidad de recursos adicionales."
      ],
      "metadata": {
        "id": "7Whv5d4Pis7R"
      }
    },
    {
      "cell_type": "markdown",
      "source": [
        "### Capacidad de la cola usando simulación"
      ],
      "metadata": {
        "id": "B7vPJVlrm84j"
      }
    },
    {
      "cell_type": "code",
      "source": [
        "import simpy\n",
        "import random\n",
        "\n",
        "# Parámetros del sistema\n",
        "llegada_media = 5  # Tasa media de llegada de clientes (clientes por minuto)\n",
        "servicio_media = 6  # Tasa media de servicio (clientes por minuto)\n",
        "tiempo_simulacion = 480  # Tiempo total de simulación en minutos\n",
        "\n",
        "# Costo de operación por servidor por minuto (reemplaza con tu valor)\n",
        "costo_operacion_por_minuto = 20  # Ejemplo: $20 por minuto por servidor\n",
        "\n",
        "# Función para simular el sistema y calcular los costos\n",
        "def simular_sistema(capacidad_cola):\n",
        "    env = simpy.Environment()\n",
        "    servidor = simpy.Resource(env, capacity=1)  # Servidor único\n",
        "    cola = simpy.Store(env, capacity=capacidad_cola)\n",
        "    tiempos_llegada = []\n",
        "    tiempos_inicio_servicio = []\n",
        "\n",
        "    def llegada_clientes(env, servidor, cola):\n",
        "        while True:\n",
        "            yield env.timeout(random.expovariate(1/llegada_media))\n",
        "            tiempos_llegada.append(env.now)\n",
        "            env.process(servicio_cliente(env, servidor, cola))\n",
        "\n",
        "    def servicio_cliente(env, servidor, cola):\n",
        "        with servidor.request() as req:\n",
        "            yield req\n",
        "            tiempos_inicio_servicio.append(env.now)\n",
        "            yield env.timeout(random.expovariate(1/servicio_media))\n",
        "\n",
        "    def atender_cola(env, servidor, cola):\n",
        "        while True:\n",
        "            if len(cola.items) > 0:\n",
        "                cliente = cola.get()\n",
        "                env.process(servicio_cliente(env, servidor, cola))\n",
        "            yield env.timeout(1)  # Verificar la cola cada minuto\n",
        "\n",
        "    env.process(llegada_clientes(env, servidor, cola))\n",
        "    env.process(atender_cola(env, servidor, cola))\n",
        "    env.run(until=tiempo_simulacion)\n",
        "\n",
        "    tiempo_promedio_espera = sum(tiempo_inicio - tiempo_llegada for tiempo_inicio, tiempo_llegada in zip(tiempos_inicio_servicio, tiempos_llegada)) / len(tiempos_llegada)\n",
        "\n",
        "    # Costo de operación\n",
        "    costo_operacion = costo_operacion_por_minuto * tiempo_simulacion\n",
        "\n",
        "    return costo_operacion\n",
        "\n",
        "# Algoritmo para encontrar la capacidad óptima de la cola\n",
        "capacidad_cola_optima = None\n",
        "costo_optimo = float('inf')  # Inicializar con un valor alto\n",
        "\n",
        "for capacidad_cola in range(1, 11):  # Prueba con diferentes capacidades de cola (de 1 a 10)\n",
        "    costo = simular_sistema(capacidad_cola)\n",
        "    if costo < costo_optimo:\n",
        "        costo_optimo = costo\n",
        "        capacidad_cola_optima = capacidad_cola\n",
        "\n",
        "print(f\"Capacidad óptima de la cola: {capacidad_cola_optima}\")\n",
        "print(f\"Costo óptimo de línea: ${costo_optimo:.2f}\")\n"
      ],
      "metadata": {
        "id": "uIZ9zQTlnt6f",
        "outputId": "a970c386-2563-4dbf-d974-136acc0fca82",
        "colab": {
          "base_uri": "https://localhost:8080/"
        }
      },
      "execution_count": null,
      "outputs": [
        {
          "output_type": "stream",
          "name": "stdout",
          "text": [
            "Capacidad óptima de la cola: 1\n",
            "Costo óptimo de línea: $9600.00\n"
          ]
        }
      ]
    },
    {
      "cell_type": "markdown",
      "source": [
        "##**Simulaciones**"
      ],
      "metadata": {
        "id": "vjwJquHXiuzK"
      }
    },
    {
      "cell_type": "markdown",
      "source": [
        "Supongamos que tienes una fábrica que produce productos en una línea de ensamblaje y estás tratando de optimizar el sistema de cola para minimizar los costos. Vamos a considerar estos conceptos en un escenario industrial:\n",
        "\n",
        "**Ejemplo de Costo de Espera y Capacidad de la Cola en una Fábrica:**\n",
        "\n",
        "En una fábrica, los productos pasan por una línea de ensamblaje y pueden requerir tiempo de espera antes de ser procesados por máquinas o trabajadores. El costo de espera se refiere al costo de tener productos esperando en la cola, lo que puede incluir costos de almacenamiento, depreciación de productos y oportunidad perdida de producción. La capacidad de la cola es la cantidad máxima de productos que la fábrica puede tener en espera antes de que sea necesario detener la producción."
      ],
      "metadata": {
        "id": "t0-cXEeJjZes"
      }
    },
    {
      "cell_type": "code",
      "source": [
        "import simpy\n",
        "import random\n",
        "\n",
        "# Parámetros del sistema\n",
        "tiempo_produccion = 5  # Tiempo promedio para producir un producto (en minutos)\n",
        "capacidad_de_cola = 10  # Capacidad máxima de la cola en la línea de ensamblaje\n",
        "\n",
        "# Función para simular la línea de ensamblaje\n",
        "def linea_de_ensamblaje(env, capacidad_cola):\n",
        "    cola = simpy.Resource(env, capacity=capacidad_cola)\n",
        "    while True:\n",
        "        yield env.timeout(random.expovariate(1/tiempo_produccion))\n",
        "        with cola.request() as req:\n",
        "            yield req\n",
        "            yield env.timeout(random.uniform(1, 2))  # Tiempo de procesamiento\n",
        "            print(f\"Producto ensamblado en t={env.now}\")\n",
        "\n",
        "# Configuración de la simulación\n",
        "env = simpy.Environment()\n",
        "env.process(linea_de_ensamblaje(env, capacidad_de_cola))\n",
        "\n",
        "# Ejecutar la simulación\n",
        "env.run(until=50)  # Simulación de 50 minutos\n"
      ],
      "metadata": {
        "colab": {
          "base_uri": "https://localhost:8080/"
        },
        "id": "VVx6HT_Mj7DQ",
        "outputId": "466f6600-477a-4b0f-d11e-bff028b03622"
      },
      "execution_count": null,
      "outputs": [
        {
          "output_type": "stream",
          "name": "stdout",
          "text": [
            "Producto ensamblado en t=2.6734171843223966\n",
            "Producto ensamblado en t=4.387132648404866\n",
            "Producto ensamblado en t=10.617404100146706\n",
            "Producto ensamblado en t=12.23431096552767\n",
            "Producto ensamblado en t=19.197552599182803\n",
            "Producto ensamblado en t=25.83836840504629\n",
            "Producto ensamblado en t=32.33820396327601\n",
            "Producto ensamblado en t=34.2838911044825\n",
            "Producto ensamblado en t=39.67553888621917\n",
            "Producto ensamblado en t=44.31850123534311\n"
          ]
        }
      ]
    },
    {
      "cell_type": "markdown",
      "source": [
        "En este ejemplo, estamos simulando una línea de ensamblaje en una fábrica donde se producen productos. La capacidad de la cola es de 10 productos. Puedes ajustar la capacidad de la cola para ver cómo afecta al costo de espera y a la eficiencia de la producción."
      ],
      "metadata": {
        "id": "ubkJDG4PkQwP"
      }
    },
    {
      "cell_type": "markdown",
      "source": [
        "**Ejemplo de Costo de la Línea en una Estación de Procesamiento:**\n",
        "\n",
        "Supongamos que tienes una estación de procesamiento de datos en un centro de cómputo y estás tratando de optimizar el número de servidores para minimizar los costos de operación."
      ],
      "metadata": {
        "id": "RY4LCtU2kqvf"
      }
    },
    {
      "cell_type": "code",
      "source": [
        "import simpy\n",
        "import random\n",
        "\n",
        "# Parámetros del sistema\n",
        "llegada_media = 4  # Tasa media de llegada de trabajos (trabajos por minuto)\n",
        "tiempo_simulacion = 48  # Tiempo total de simulación en minutos\n",
        "\n",
        "# Función para simular la estación de procesamiento y calcular costos\n",
        "def simular_estacion(env, num_servidores, resultados):\n",
        "    servidor = simpy.Resource(env, capacity=num_servidores)\n",
        "    trabajos_procesados = 0\n",
        "    tiempo_total_espera = 0\n",
        "    costo_operacion = 0\n",
        "\n",
        "    while True:\n",
        "        yield env.timeout(random.expovariate(1/llegada_media))\n",
        "        llegada_trabajo = env.now\n",
        "\n",
        "        with servidor.request() as req:\n",
        "            yield req\n",
        "            yield env.timeout(random.uniform(1, 2))  # Tiempo de procesamiento\n",
        "            tiempo_espera = env.now - llegada_trabajo\n",
        "            tiempo_total_espera += tiempo_espera\n",
        "            trabajos_procesados += 1\n",
        "            costo_operacion += num_servidores * tiempo_espera  # Costo de operación\n",
        "\n",
        "            print(f\"Trabajo procesado en t={env.now}, tiempo de espera: {tiempo_espera:.2f} minutos\")\n",
        "\n",
        "    tiempo_promedio_espera = tiempo_total_espera / trabajos_procesados\n",
        "    resultados[num_servidores] = (tiempo_promedio_espera, costo_operacion)\n",
        "\n",
        "# Configuración de la simulación\n",
        "env = simpy.Environment()\n",
        "\n",
        "num_servidores_valores = [1, 2, 3, 4, 5]  # Diferentes cantidades de servidores\n",
        "resultados = {}  # Diccionario para almacenar los resultados\n",
        "\n",
        "# Simulación con diferentes cantidades de servidores\n",
        "for num_servidores in num_servidores_valores:\n",
        "    env.process(simular_estacion(env, num_servidores, resultados))\n",
        "\n",
        "# Ejecutar la simulación\n",
        "env.run(until=tiempo_simulacion)\n",
        "\n",
        "print(f\"Cantidad de servidores: {num_servidores}\")"
      ],
      "metadata": {
        "colab": {
          "base_uri": "https://localhost:8080/"
        },
        "id": "FT2nneO4kwU5",
        "outputId": "1c021498-dff9-4b19-c594-840b0d1ba300"
      },
      "execution_count": null,
      "outputs": [
        {
          "output_type": "stream",
          "name": "stdout",
          "text": [
            "Trabajo procesado en t=3.558420085125596, tiempo de espera: 1.31 minutos\n",
            "Trabajo procesado en t=3.9661962732667493, tiempo de espera: 1.94 minutos\n",
            "Trabajo procesado en t=4.744882653753985, tiempo de espera: 1.80 minutos\n",
            "Trabajo procesado en t=6.145435536570523, tiempo de espera: 1.91 minutos\n",
            "Trabajo procesado en t=6.253928240671851, tiempo de espera: 1.75 minutos\n",
            "Trabajo procesado en t=6.952291275228239, tiempo de espera: 1.18 minutos\n",
            "Trabajo procesado en t=7.509572027684142, tiempo de espera: 1.41 minutos\n",
            "Trabajo procesado en t=9.091504109813854, tiempo de espera: 1.80 minutos\n",
            "Trabajo procesado en t=10.71575182692498, tiempo de espera: 1.09 minutos\n",
            "Trabajo procesado en t=11.694224386322615, tiempo de espera: 1.22 minutos\n",
            "Trabajo procesado en t=12.213601665435876, tiempo de espera: 1.38 minutos\n",
            "Trabajo procesado en t=12.42214727166483, tiempo de espera: 1.85 minutos\n",
            "Trabajo procesado en t=13.342235945703926, tiempo de espera: 1.49 minutos\n",
            "Trabajo procesado en t=13.792030173184697, tiempo de espera: 1.23 minutos\n",
            "Trabajo procesado en t=16.47407127633169, tiempo de espera: 1.10 minutos\n",
            "Trabajo procesado en t=16.992754963200095, tiempo de espera: 1.09 minutos\n",
            "Trabajo procesado en t=18.363232022135016, tiempo de espera: 1.75 minutos\n",
            "Trabajo procesado en t=18.373529464709623, tiempo de espera: 1.00 minutos\n",
            "Trabajo procesado en t=19.573694633994698, tiempo de espera: 1.13 minutos\n",
            "Trabajo procesado en t=21.883056648678426, tiempo de espera: 1.79 minutos\n",
            "Trabajo procesado en t=22.653815758070547, tiempo de espera: 1.41 minutos\n",
            "Trabajo procesado en t=22.701249039184766, tiempo de espera: 1.19 minutos\n",
            "Trabajo procesado en t=24.551218028329313, tiempo de espera: 1.64 minutos\n",
            "Trabajo procesado en t=26.22732943443826, tiempo de espera: 1.16 minutos\n",
            "Trabajo procesado en t=26.862472787276136, tiempo de espera: 1.57 minutos\n",
            "Trabajo procesado en t=27.098703449473017, tiempo de espera: 1.14 minutos\n",
            "Trabajo procesado en t=27.908190253154117, tiempo de espera: 1.67 minutos\n",
            "Trabajo procesado en t=28.58764681793456, tiempo de espera: 1.78 minutos\n",
            "Trabajo procesado en t=30.499657638142104, tiempo de espera: 1.90 minutos\n",
            "Trabajo procesado en t=30.9387899692684, tiempo de espera: 1.79 minutos\n",
            "Trabajo procesado en t=31.329811462219364, tiempo de espera: 1.72 minutos\n",
            "Trabajo procesado en t=32.82464388518746, tiempo de espera: 1.76 minutos\n",
            "Trabajo procesado en t=33.43179649987031, tiempo de espera: 1.47 minutos\n",
            "Trabajo procesado en t=35.90064219079736, tiempo de espera: 1.20 minutos\n",
            "Trabajo procesado en t=36.862669468177764, tiempo de espera: 1.24 minutos\n",
            "Trabajo procesado en t=36.98937966478339, tiempo de espera: 1.25 minutos\n",
            "Trabajo procesado en t=38.035394986381895, tiempo de espera: 1.63 minutos\n",
            "Trabajo procesado en t=40.69403675019938, tiempo de espera: 1.50 minutos\n",
            "Trabajo procesado en t=43.10563093200311, tiempo de espera: 1.92 minutos\n",
            "Trabajo procesado en t=43.152457118006076, tiempo de espera: 1.84 minutos\n",
            "Trabajo procesado en t=45.798365885727414, tiempo de espera: 1.64 minutos\n",
            "Cantidad de servidores: 5\n"
          ]
        }
      ]
    }
  ]
}
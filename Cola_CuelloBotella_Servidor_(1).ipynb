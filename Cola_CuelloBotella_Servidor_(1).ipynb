{
  "nbformat": 4,
  "nbformat_minor": 0,
  "metadata": {
    "colab": {
      "provenance": [],
      "include_colab_link": true
    },
    "kernelspec": {
      "name": "python3",
      "display_name": "Python 3"
    },
    "language_info": {
      "name": "python"
    }
  },
  "cells": [
    {
      "cell_type": "markdown",
      "metadata": {
        "id": "view-in-github",
        "colab_type": "text"
      },
      "source": [
        "<a href=\"https://colab.research.google.com/github/emerson1000/notebooks/blob/main/Cola_CuelloBotella_Servidor_(1).ipynb\" target=\"_parent\"><img src=\"https://colab.research.google.com/assets/colab-badge.svg\" alt=\"Open In Colab\"/></a>"
      ]
    },
    {
      "cell_type": "markdown",
      "source": [
        "# **Cola, cuello de botella, servidores, medidas de eficiencia, tiempos de servicios y fuga de clientes**"
      ],
      "metadata": {
        "id": "CEVVJtXWpsgU"
      }
    },
    {
      "cell_type": "markdown",
      "source": [
        "### Cola (Queue)\n",
        "\n",
        "Contexto: Imagina que estás desarrollando un programa para gestionar las solicitudes de atención al cliente en una línea de soporte técnico. Necesitas utilizar una estructura de datos para organizar y administrar las solicitudes de manera que se atiendan en el orden en que se reciben."
      ],
      "metadata": {
        "id": "jHopWtTX91wq"
      }
    },
    {
      "cell_type": "code",
      "execution_count": null,
      "metadata": {
        "colab": {
          "base_uri": "https://localhost:8080/"
        },
        "id": "NJJRr2--9rJ9",
        "outputId": "8056b1a0-2b20-4132-fb8a-eac79caf0186"
      },
      "outputs": [
        {
          "output_type": "stream",
          "name": "stdout",
          "text": [
            "Elemento retirado de la cola: 1\n"
          ]
        }
      ],
      "source": [
        "from queue import Queue\n",
        "\n",
        "# Crear una cola\n",
        "cola = Queue()\n",
        "\n",
        "# Agregar elementos a la cola\n",
        "cola.put(1)\n",
        "cola.put(2)\n",
        "cola.put(3)\n",
        "\n",
        "# Obtener y eliminar elementos de la cola (FIFO)\n",
        "elemento = cola.get()\n",
        "print(\"Elemento retirado de la cola:\", elemento)"
      ]
    },
    {
      "cell_type": "code",
      "source": [
        "# Obtener y eliminar elementos de la cola (FIFO)\n",
        "elemento = cola.get()\n",
        "print(\"Elemento retirado de la cola:\", elemento)"
      ],
      "metadata": {
        "colab": {
          "base_uri": "https://localhost:8080/"
        },
        "id": "tWY7ie8kSSus",
        "outputId": "bb3c8e43-d9b3-49ee-d494-1e2aa6b795c2"
      },
      "execution_count": null,
      "outputs": [
        {
          "output_type": "stream",
          "name": "stdout",
          "text": [
            "Elemento retirado de la cola: 2\n"
          ]
        }
      ]
    },
    {
      "cell_type": "code",
      "source": [
        "# Obtener y eliminar elementos de la cola (FIFO)\n",
        "elemento = cola.get()\n",
        "print(\"Elemento retirado de la cola:\", elemento)"
      ],
      "metadata": {
        "colab": {
          "base_uri": "https://localhost:8080/"
        },
        "id": "URLzSs_KSUkh",
        "outputId": "2bd7d5e1-df9c-4c80-ca8c-9279dea2a6d9"
      },
      "execution_count": null,
      "outputs": [
        {
          "output_type": "stream",
          "name": "stdout",
          "text": [
            "Elemento retirado de la cola: 3\n"
          ]
        }
      ]
    },
    {
      "cell_type": "markdown",
      "source": [
        "Otro ejemplo,  consiste en que se simule una línea de producción donde los trabajos se acumulan en una cola antes de ser procesados por diferentes estaciones de trabajo. Utilizaremos la biblioteca SimPy para llevar a cabo esta simulación."
      ],
      "metadata": {
        "id": "ssHoX8I7m6Hn"
      }
    },
    {
      "cell_type": "code",
      "source": [
        "!pip install simpy"
      ],
      "metadata": {
        "colab": {
          "base_uri": "https://localhost:8080/"
        },
        "id": "5b656By7m_iq",
        "outputId": "11b8e843-b3ef-4e97-8a31-3a2bbdfe36fc"
      },
      "execution_count": null,
      "outputs": [
        {
          "output_type": "stream",
          "name": "stdout",
          "text": [
            "Requirement already satisfied: simpy in /usr/local/lib/python3.10/dist-packages (4.0.2)\n"
          ]
        }
      ]
    },
    {
      "cell_type": "code",
      "source": [
        "import simpy\n",
        "import random\n",
        "\n",
        "# Definimos una función para representar una estación de trabajo\n",
        "def estacion_trabajo(env, nombre, tiempo_procesamiento):\n",
        "    while True:\n",
        "        # Esperamos a que llegue un trabajo a la cola\n",
        "        yield env.timeout(1)\n",
        "\n",
        "        # La estación de trabajo está disponible, procesa un trabajo\n",
        "        print(f'{nombre} comienza a procesar en el tiempo {env.now}')\n",
        "        yield env.timeout(tiempo_procesamiento)\n",
        "        print(f'{nombre} termina de procesar en el tiempo {env.now}')\n",
        "\n",
        "# Configuramos la simulación\n",
        "env = simpy.Environment()\n",
        "\n",
        "# Creamos una cola de trabajos\n",
        "cola_trabajos = simpy.Store(env)\n",
        "\n",
        "# Creamos estaciones de trabajo con diferentes tiempos de procesamiento\n",
        "estaciones = [\n",
        "    ('Estación A', 2),  # Estación A procesa trabajos en 2 unidades de tiempo\n",
        "    ('Estación B', 3),  # Estación B procesa trabajos en 3 unidades de tiempo\n",
        "    ('Estación C', 4)   # Estación C procesa trabajos en 4 unidades de tiempo\n",
        "]\n",
        "\n",
        "# Creamos las estaciones de trabajo como procesos\n",
        "for nombre, tiempo_procesamiento in estaciones:\n",
        "    env.process(estacion_trabajo(env, nombre, tiempo_procesamiento))\n",
        "\n",
        "# Función para generar trabajos y colocarlos en la cola\n",
        "def generar_trabajos(env):\n",
        "    for i in range(10):\n",
        "        tiempo_llegada = random.randint(1, 5)  # Tiempo aleatorio entre 1 y 5 unidades de tiempo\n",
        "        yield env.timeout(tiempo_llegada)\n",
        "        trabajo = f'Trabajo {i + 1} llega en {tiempo_llegada} unidades de tiempo'\n",
        "        print(trabajo)\n",
        "        cola_trabajos.put(trabajo)\n",
        "\n",
        "# Procesamos los trabajos de la cola\n",
        "def procesar_trabajos(env):\n",
        "    while True:\n",
        "        trabajo = yield cola_trabajos.get()\n",
        "        estacion_elegida, tiempo_procesamiento = random.choice(estaciones)\n",
        "        env.process(estacion_trabajo(env, estacion_elegida, tiempo_procesamiento))\n",
        "\n",
        "# Ejecutamos la simulación durante un período de tiempo\n",
        "env.process(generar_trabajos(env))\n",
        "env.process(procesar_trabajos(env))\n",
        "env.run(until=11)"
      ],
      "metadata": {
        "colab": {
          "base_uri": "https://localhost:8080/"
        },
        "id": "jPDBL7fQnDkI",
        "outputId": "6b6dffe4-a6cc-4a5d-dbdb-2f74d3b8005a"
      },
      "execution_count": null,
      "outputs": [
        {
          "output_type": "stream",
          "name": "stdout",
          "text": [
            "Estación A comienza a procesar en el tiempo 1\n",
            "Estación B comienza a procesar en el tiempo 1\n",
            "Estación C comienza a procesar en el tiempo 1\n",
            "Trabajo 1 llega en 2 unidades de tiempo\n",
            "Estación A termina de procesar en el tiempo 3\n",
            "Estación B comienza a procesar en el tiempo 3\n",
            "Estación B termina de procesar en el tiempo 4\n",
            "Estación A comienza a procesar en el tiempo 4\n",
            "Estación C termina de procesar en el tiempo 5\n",
            "Estación B comienza a procesar en el tiempo 5\n",
            "Estación B termina de procesar en el tiempo 6\n",
            "Estación A termina de procesar en el tiempo 6\n",
            "Estación C comienza a procesar en el tiempo 6\n",
            "Trabajo 2 llega en 5 unidades de tiempo\n",
            "Estación B comienza a procesar en el tiempo 7\n",
            "Estación A comienza a procesar en el tiempo 7\n",
            "Estación B termina de procesar en el tiempo 8\n",
            "Trabajo 3 llega en 1 unidades de tiempo\n",
            "Estación C comienza a procesar en el tiempo 8\n",
            "Estación A termina de procesar en el tiempo 9\n",
            "Estación B comienza a procesar en el tiempo 9\n",
            "Trabajo 4 llega en 1 unidades de tiempo\n",
            "Estación B comienza a procesar en el tiempo 9\n",
            "Estación C termina de procesar en el tiempo 10\n",
            "Estación B termina de procesar en el tiempo 10\n",
            "Estación A comienza a procesar en el tiempo 10\n",
            "Trabajo 5 llega en 1 unidades de tiempo\n",
            "Estación A comienza a procesar en el tiempo 10\n"
          ]
        }
      ]
    },
    {
      "cell_type": "markdown",
      "source": [
        "En este ejemplo:\n",
        "\n",
        "* Hemos definido una función estacion_trabajo que representa una estación de trabajo que procesa trabajos.\n",
        "\n",
        "* Hemos creado una cola (cola_trabajos) donde los trabajos esperan a ser procesados.\n",
        "\n",
        "* Generamos trabajos de manera aleatoria y los colocamos en la cola.\n",
        "\n",
        "* Procesamos los trabajos de la cola asignándolos a una estación de trabajo disponible.\n",
        "\n",
        "* Finalmente, ejecutamos la simulación durante un período de tiempo de 10 unidades.\n",
        "\n",
        "La simulación mostrará cómo los trabajos se acumulan en la cola antes de ser procesados por las estaciones de trabajo. Observarás que los trabajos esperan en la cola si todas las estaciones están ocupadas, lo que es un ejemplo de cómo las colas pueden formarse en un proceso de producción cuando las estaciones de trabajo no pueden procesar los trabajos de manera inmediata. Puedes ajustar los tiempos de procesamiento de las estaciones y los tiempos de llegada de los trabajos para experimentar con diferentes escenarios y observar cómo afectan la formación de colas en el proceso.\n",
        "\n",
        "**Inicio de la simulación:**\n",
        "Las estaciones A, B y C comienzan a procesar en el tiempo 1. Esto significa que están disponibles y esperando trabajos.\n",
        "\n",
        "\n",
        "* Procesamiento inicial\n",
        "* Llegada de más trabajos:\n",
        "* Finalización de la simulación\n",
        "* La simulación se detiene en el tiempo dado (until=11).\n",
        "\n"
      ],
      "metadata": {
        "id": "iVNY3XkuqiAP"
      }
    },
    {
      "cell_type": "markdown",
      "source": [
        "En cuanto a mostrar las \"colas\" del proceso, podemos realizar un seguimiento de los trabajos en cola en cada estación de trabajo. Aquí hay un algoritmo que muestra las colas en función de los trabajos que están esperando ser procesados en cada estación de trabajo:"
      ],
      "metadata": {
        "id": "yfCM-PkVqk7k"
      }
    },
    {
      "cell_type": "code",
      "source": [
        "# Crear diccionarios para rastrear las colas en cada estación\n",
        "colas = {nombre: [] for nombre, _ in estaciones}\n",
        "\n",
        "# Función para mostrar las colas en cada estación\n",
        "def mostrar_colas():\n",
        "    for nombre, _ in estaciones:\n",
        "        print(f'Cola en {nombre}: {\", \".join(colas[nombre])}')\n",
        "\n",
        "# Modificar la función de procesar_trabajos para actualizar las colas\n",
        "def procesar_trabajos(env):\n",
        "    while True:\n",
        "        trabajo = yield cola_trabajos.get()\n",
        "        estacion_elegida, tiempo_procesamiento = random.choice(estaciones)\n",
        "        cola_trabajos.put(trabajo)  # Volver a poner el trabajo en la cola\n",
        "        colas[estacion_elegida].append(trabajo)  # Agregar trabajo a la cola de la estación\n",
        "        env.process(estacion_trabajo(env, estacion_elegida, tiempo_procesamiento))\n",
        "\n",
        "# Ejecutamos la simulación durante un período de tiempo\n",
        "env.process(generar_trabajos(env))\n",
        "env.process(procesar_trabajos(env))\n",
        "env.run(until=15)\n",
        "\n",
        "# Mostrar las colas al final de la simulación\n",
        "mostrar_colas()\n"
      ],
      "metadata": {
        "colab": {
          "base_uri": "https://localhost:8080/"
        },
        "id": "w0op_rgbqn8-",
        "outputId": "ec6158b4-b10d-4eef-ab7d-38f726d46dc1"
      },
      "execution_count": null,
      "outputs": [
        {
          "output_type": "stream",
          "name": "stdout",
          "text": [
            "Estación C comienza a procesar en el tiempo 11\n",
            "Estación B comienza a procesar en el tiempo 11\n",
            "Estación C comienza a procesar en el tiempo 11\n",
            "Estación C termina de procesar en el tiempo 12\n",
            "Estación B termina de procesar en el tiempo 12\n",
            "Estación B termina de procesar en el tiempo 12\n",
            "Estación A termina de procesar en el tiempo 12\n",
            "Estación A termina de procesar en el tiempo 12\n",
            "Trabajo 1 llega en 1 unidades de tiempo\n",
            "Estación C comienza a procesar en el tiempo 13\n",
            "Estación B comienza a procesar en el tiempo 13\n",
            "Estación B comienza a procesar en el tiempo 13\n",
            "Estación A comienza a procesar en el tiempo 13\n",
            "Estación A comienza a procesar en el tiempo 13\n",
            "Estación B comienza a procesar en el tiempo 13\n",
            "Trabajo 6 llega en 4 unidades de tiempo\n",
            "Estación B termina de procesar en el tiempo 14\n",
            "Cola en Estación A: \n",
            "Cola en Estación B: \n",
            "Cola en Estación C: Trabajo 6 llega en 4 unidades de tiempo\n"
          ]
        }
      ]
    },
    {
      "cell_type": "markdown",
      "source": [
        "Este código modificará la función procesar_trabajos para que vuelva a colocar el trabajo en la cola después de seleccionar una estación de trabajo. También se agrega el trabajo a la cola de la estación correspondiente. Al final de la simulación, se muestra el contenido de las colas en cada estación de trabajo. Esto te dará una idea de cómo se forman las colas en cada estación a lo largo del tiempo."
      ],
      "metadata": {
        "id": "tuFwEflnq4ki"
      }
    },
    {
      "cell_type": "markdown",
      "source": [
        "### Cuellos de Botella (Bottlenecks)\n",
        "\n",
        "Contexto: Eres un ingeniero de procesos en una fábrica de productos electrónicos. Quieres analizar el proceso de ensamblaje para identificar si hay algún punto que ralentiza la producción y afecta el tiempo total de ensamblaje."
      ],
      "metadata": {
        "id": "GwTEu_Ii-DaK"
      }
    },
    {
      "cell_type": "code",
      "source": [
        "# Tiempos de procesamiento en una línea de ensamblaje (en segundos)\n",
        "tiempos_procesamiento = [10, 5, 8, 12, 6]\n",
        "\n",
        "# Calcular el tiempo total de procesamiento\n",
        "tiempo_total = sum(tiempos_procesamiento)\n",
        "print(\"Tiempo total de procesamiento:\", tiempo_total)\n",
        "\n",
        "# Identificar el cuello de botella (máximo tiempo de procesamiento)\n",
        "cuello_de_botella = max(tiempos_procesamiento)\n",
        "print(\"Cuello de botella:\", cuello_de_botella)"
      ],
      "metadata": {
        "colab": {
          "base_uri": "https://localhost:8080/"
        },
        "id": "EAwQd4l0-Gxh",
        "outputId": "bde10bf2-38fc-4076-a01b-eeacb811eca8"
      },
      "execution_count": null,
      "outputs": [
        {
          "output_type": "stream",
          "name": "stdout",
          "text": [
            "Tiempo total de procesamiento: 41\n",
            "Cuello de botella: 12\n"
          ]
        }
      ]
    },
    {
      "cell_type": "markdown",
      "source": [
        "Otro ejemplo aplicado al área industrial de procesos en Python relacionado con \"Cuellos de botellas\", podría involucrar la simulación de un proceso de producción que identifica y analiza cuellos de botella. En este escenario, utilizaremos la biblioteca SimPy para simular un proceso de producción en el que varias estaciones de trabajo procesan trabajos, y luego calcularemos la eficiencia del proceso para identificar posibles cuellos de botella:"
      ],
      "metadata": {
        "id": "XjzdtTaylAHY"
      }
    },
    {
      "cell_type": "code",
      "source": [
        "!pip install simpy"
      ],
      "metadata": {
        "colab": {
          "base_uri": "https://localhost:8080/"
        },
        "id": "ZNPI1VCslOTh",
        "outputId": "b5b2f78c-a4e8-459a-ddb8-15f94709ab81"
      },
      "execution_count": null,
      "outputs": [
        {
          "output_type": "stream",
          "name": "stdout",
          "text": [
            "Requirement already satisfied: simpy in /usr/local/lib/python3.10/dist-packages (4.0.2)\n"
          ]
        }
      ]
    },
    {
      "cell_type": "code",
      "source": [
        "import simpy\n",
        "import random\n",
        "\n",
        "# Definimos una función para representar una estación de trabajo\n",
        "def estacion_trabajo(env, nombre, tiempo_procesamiento):\n",
        "    while True:\n",
        "        # Simulamos el tiempo que lleva procesar un trabajo\n",
        "        yield env.timeout(tiempo_procesamiento)\n",
        "\n",
        "        # La estación de trabajo ha completado el trabajo\n",
        "        print(f'{nombre} ha terminado en el tiempo {env.now}')\n",
        "\n",
        "# Configuramos la simulación\n",
        "env = simpy.Environment()\n",
        "\n",
        "# Creamos un proceso de producción con varias estaciones de trabajo\n",
        "estaciones = [\n",
        "    ('Estación A', 2),  # Estación A procesa trabajos en 2 unidades de tiempo\n",
        "    ('Estación B', 3),  # Estación B procesa trabajos en 3 unidades de tiempo\n",
        "    ('Estación C', 4)   # Estación C procesa trabajos en 4 unidades de tiempo\n",
        "]\n",
        "\n",
        "# Creamos las estaciones de trabajo como procesos\n",
        "for nombre, tiempo_procesamiento in estaciones:\n",
        "    env.process(estacion_trabajo(env, nombre, tiempo_procesamiento))\n",
        "\n",
        "# Ejecutamos la simulación durante un período de tiempo\n",
        "env.run(until=10)\n",
        "\n",
        "# Calculamos la eficiencia del proceso\n",
        "total_tiempo_produccion = sum(tiempo_procesamiento for _, tiempo_procesamiento in estaciones)\n",
        "eficiencia_proceso = total_tiempo_produccion / env.now\n",
        "\n",
        "# Mostramos los resultados\n",
        "print(f'Tiempo total de producción: {total_tiempo_produccion}')\n",
        "print(f'Tiempo de simulación: {env.now}')\n",
        "print(f'Eficiencia del proceso: {eficiencia_proceso:.2%}')"
      ],
      "metadata": {
        "colab": {
          "base_uri": "https://localhost:8080/"
        },
        "id": "MdKkFD2xlHI8",
        "outputId": "ba5fb5b5-d1e6-4d9e-bd8f-db5a69b7333c"
      },
      "execution_count": null,
      "outputs": [
        {
          "output_type": "stream",
          "name": "stdout",
          "text": [
            "Estación A ha terminado en el tiempo 2\n",
            "Estación B ha terminado en el tiempo 3\n",
            "Estación C ha terminado en el tiempo 4\n",
            "Estación A ha terminado en el tiempo 4\n",
            "Estación B ha terminado en el tiempo 6\n",
            "Estación A ha terminado en el tiempo 6\n",
            "Estación C ha terminado en el tiempo 8\n",
            "Estación A ha terminado en el tiempo 8\n",
            "Estación B ha terminado en el tiempo 9\n",
            "Tiempo total de producción: 9\n",
            "Tiempo de simulación: 10\n",
            "Eficiencia del proceso: 90.00%\n"
          ]
        }
      ]
    },
    {
      "cell_type": "markdown",
      "source": [
        "En este ejemplo:\n",
        "\n",
        "Definimos una función estacion_trabajo que simula el tiempo que lleva procesar un trabajo en una estación de trabajo.\n",
        "\n",
        "Configuramos una simulación en la que hay tres estaciones de trabajo con diferentes tiempos de procesamiento.\n",
        "\n",
        "Ejecutamos la simulación durante un período de tiempo específico (en este caso, 10 unidades de tiempo).\n",
        "\n",
        "Calculamos la eficiencia del proceso dividiendo el tiempo total de producción entre el tiempo de simulación. La eficiencia se expresa como un porcentaje.\n",
        "\n",
        "El resultado de la simulación mostrará cómo las estaciones de trabajo procesan los trabajos y qué estación podría ser un cuello de botella según la eficiencia del proceso calculada. Puedes ajustar los tiempos de procesamiento de las estaciones de trabajo para experimentar con diferentes escenarios y analizar cómo afectan la eficiencia del proceso.\n",
        "\n",
        "La **eficiencia** del proceso se interpreta como la relación entre el tiempo total de producción y el tiempo de simulación. En otras palabras, es una medida de qué tan eficiente es tu proceso de producción en términos de tiempo. Una eficiencia del proceso del 90.00% significa que durante el período de simulación, el 90.00% del tiempo se utilizó realmente para la producción, mientras que el 10.00% del tiempo se desperdició o se dedicó a otros fines (por ejemplo, esperando o en inactividad).\n",
        "\n",
        "La eficiencia del proceso parece disminuir cuando aumentas la cantidad de simulaciones, es importante entender que la eficiencia del proceso se calcula en función del tiempo real de producción y el tiempo de simulación. En la simulación, el tiempo de simulación es de 10 unidades de tiempo, independientemente de cuántas estaciones de trabajo haya.\n",
        "\n",
        "Cuando agregas más estaciones de trabajo al proceso, es probable que los trabajos se completen más rápidamente, ya que hay más capacidad para procesarlos. Como resultado, el tiempo total de producción disminuye, lo que aumenta la eficiencia del proceso. Esto puede llevar a la percepción de que la eficiencia disminuye a medida que aumentas la cantidad de simulaciones.\n",
        "\n",
        "Sin embargo, es importante tener en cuenta que una mayor eficiencia generalmente es deseable en un proceso de producción, ya que significa que se está utilizando mejor el tiempo de trabajo. La disminución en la eficiencia al aumentar la cantidad de simulaciones puede ser un efecto de la velocidad a la que se pueden procesar los trabajos en un sistema más eficiente. Por lo tanto, en términos de eficiencia, una mayor eficiencia generalmente es preferible a una menor."
      ],
      "metadata": {
        "id": "HKOYvn5fltPp"
      }
    },
    {
      "cell_type": "markdown",
      "source": [
        "### Servidores\n",
        "\n",
        "Contexto: Estás simulando el funcionamiento de un restaurante y deseas modelar cómo los camareros toman pedidos de los clientes y sirven la comida. Quieres mostrar cómo los servidores desempeñan un papel importante en la experiencia de los clientes."
      ],
      "metadata": {
        "id": "DJ5urnOp-hrM"
      }
    },
    {
      "cell_type": "code",
      "source": [
        "class Camarero:\n",
        "    def __init__(self, nombre):\n",
        "        self.nombre = nombre\n",
        "\n",
        "    def tomar_pedido(self, cliente, pedido):\n",
        "        print(f\"{self.nombre} toma el pedido de {cliente}: {pedido}\")\n",
        "\n",
        "    def servir_comida(self, cliente, plato):\n",
        "        print(f\"{self.nombre} sirve a {cliente}: {plato}\")\n",
        "\n",
        "# Crear servidores\n",
        "camarero1 = Camarero(\"Juan\")\n",
        "camarero2 = Camarero(\"María\")\n",
        "\n",
        "# Simular el proceso de tomar pedido y servir comida\n",
        "cliente1 = \"Cliente 1\"\n",
        "pedido1 = \"Pizza\"\n",
        "camarero1.tomar_pedido(cliente1, pedido1)\n",
        "camarero1.servir_comida(cliente1, pedido1)"
      ],
      "metadata": {
        "colab": {
          "base_uri": "https://localhost:8080/"
        },
        "id": "7x8vmhO9-irn",
        "outputId": "4076b517-9878-4a39-a829-70a97ff9fea4"
      },
      "execution_count": null,
      "outputs": [
        {
          "output_type": "stream",
          "name": "stdout",
          "text": [
            "Juan toma el pedido de Cliente 1: Pizza\n",
            "Juan sirve a Cliente 1: Pizza\n"
          ]
        }
      ]
    },
    {
      "cell_type": "markdown",
      "source": [
        "Otro ejemplo en Python relacionado con servidores en un proceso industrial, podemos crear un simulador de un sistema de control de producción que utiliza un servidor para coordinar el flujo de trabajo en una línea de producción. En este escenario, el servidor asignará trabajos a diferentes estaciones de trabajo según su disponibilidad:"
      ],
      "metadata": {
        "id": "KAcrjg_uX2Nv"
      }
    },
    {
      "cell_type": "code",
      "source": [
        "!pip install simpy"
      ],
      "metadata": {
        "colab": {
          "base_uri": "https://localhost:8080/"
        },
        "id": "OyvFqbGEYJVY",
        "outputId": "09c39168-2c3e-4321-9d5e-53fdb3fa8ab1"
      },
      "execution_count": null,
      "outputs": [
        {
          "output_type": "stream",
          "name": "stdout",
          "text": [
            "Collecting simpy\n",
            "  Downloading simpy-4.0.2-py2.py3-none-any.whl (30 kB)\n",
            "Installing collected packages: simpy\n",
            "Successfully installed simpy-4.0.2\n"
          ]
        }
      ]
    },
    {
      "cell_type": "code",
      "source": [
        "import simpy\n",
        "import random\n",
        "\n",
        "# Definimos una función para representar una estación de trabajo\n",
        "def estacion_trabajo(env, nombre, servidor):\n",
        "    while True:\n",
        "        yield env.timeout(random.uniform(1, 3))  # Tiempo de procesamiento simulado\n",
        "\n",
        "        # La estación de trabajo está disponible, solicita un trabajo al servidor\n",
        "        print(f'{nombre} solicita trabajo en {env.now}')\n",
        "        with servidor.request() as req:\n",
        "            yield req\n",
        "\n",
        "            # Procesamos el trabajo\n",
        "            print(f'{nombre} comienza a procesar en {env.now}')\n",
        "            yield env.timeout(random.uniform(1, 3))  # Procesamiento simulado\n",
        "            print(f'{nombre} termina de procesar en {env.now}')\n",
        "\n",
        "# Configuramos la simulación\n",
        "env = simpy.Environment()\n",
        "\n",
        "# Creamos un servidor que coordina las estaciones de trabajo\n",
        "servidor = simpy.Resource(env, capacity=1)  # Capacidad de 1 para simular un servidor único\n",
        "\n",
        "# Creamos varias estaciones de trabajo\n",
        "estacion1 = env.process(estacion_trabajo(env, 'Estación 1', servidor))\n",
        "estacion2 = env.process(estacion_trabajo(env, 'Estación 2', servidor))\n",
        "estacion3 = env.process(estacion_trabajo(env, 'Estación 3', servidor))\n",
        "\n",
        "# Ejecutamos la simulación durante un período de tiempo\n",
        "env.run(until=10)"
      ],
      "metadata": {
        "colab": {
          "base_uri": "https://localhost:8080/"
        },
        "id": "RREg1G6YYFbs",
        "outputId": "d55a9a2a-e0e2-4be9-f26f-42a05d1f6c57"
      },
      "execution_count": null,
      "outputs": [
        {
          "output_type": "stream",
          "name": "stdout",
          "text": [
            "Estación 3 solicita trabajo en 1.0274178085667616\n",
            "Estación 3 comienza a procesar en 1.0274178085667616\n",
            "Estación 1 solicita trabajo en 2.51804015952455\n",
            "Estación 2 solicita trabajo en 2.6095478146379483\n",
            "Estación 3 termina de procesar en 3.559013603540909\n",
            "Estación 1 comienza a procesar en 3.559013603540909\n",
            "Estación 3 solicita trabajo en 6.0622362634595\n",
            "Estación 1 termina de procesar en 6.217403435920677\n",
            "Estación 2 comienza a procesar en 6.217403435920677\n",
            "Estación 2 termina de procesar en 8.506985477291973\n",
            "Estación 3 comienza a procesar en 8.506985477291973\n",
            "Estación 1 solicita trabajo en 9.205185994638033\n"
          ]
        }
      ]
    },
    {
      "cell_type": "markdown",
      "source": [
        "En este ejemplo:\n",
        "\n",
        "Definimos una función estacion_trabajo que representa una estación de trabajo. Cada estación de trabajo tiene un tiempo de procesamiento simulado y solicita trabajos al servidor cuando está disponible.\n",
        "\n",
        "Configuramos la simulación con SimPy y creamos un servidor utilizando la clase simpy.Resource con una capacidad de 1 para simular un servidor único.\n",
        "\n",
        "Creamos tres estaciones de trabajo (estacion1, estacion2, y estacion3) como procesos en la simulación.\n",
        "\n",
        "Ejecutamos la simulación durante un período de tiempo definido (env.run(until=20)).\n",
        "\n",
        "Este ejemplo ilustra cómo un servidor puede coordinar las estaciones de trabajo en un proceso industrial, asignando trabajos a las estaciones disponibles. Puedes ajustar los parámetros y tiempos de procesamiento según tus necesidades específicas para simular un proceso industrial más realista. Además, puedes agregar métricas e indicadores de rendimiento para analizar el rendimiento del proceso y la eficiencia del servidor.\n",
        "\n",
        "El código es una simulación de estaciones de trabajo en un proceso industrial utilizando la biblioteca SimPy en Python. Vamos a analizar el código paso a paso:\n",
        "\n",
        "* Definición de la función estacion_trabajo:\n",
        "\n",
        "Esta función representa una estación de trabajo en el proceso industrial. La estación de trabajo tiene un nombre (nombre) y utiliza la biblioteca simpy para simular su comportamiento. El comportamiento de la estación se modela como un bucle infinito donde:\n",
        "\n",
        "yield env.timeout(random.uniform(1, 3)): Se simula un tiempo de procesamiento aleatorio entre 1 y 3 unidades de tiempo. Esto representa el tiempo que lleva procesar un trabajo en la estación de trabajo.\n",
        "\n",
        "print(f'{nombre} solicita trabajo en {env.now}'): Se muestra un mensaje indicando que la estación de trabajo está solicitando un trabajo al servidor en un momento específico (env.now representa el tiempo de la simulación).\n",
        "\n",
        "with servidor.request() as req:: Se solicita un recurso del servidor (en este caso, la estación de trabajo está solicitando acceso al servidor).\n",
        "\n",
        "yield req: Se espera hasta que el servidor le conceda acceso. Mientras tanto, la estación de trabajo está en espera.\n",
        "\n",
        "print(f'{nombre} comienza a procesar en {env.now}'): Se muestra un mensaje indicando que la estación de trabajo comenzó a procesar un trabajo en un momento específico.\n",
        "\n",
        "yield env.timeout(random.uniform(1, 3)): Se simula el tiempo de procesamiento del trabajo, nuevamente con un valor aleatorio.\n",
        "\n",
        "print(f'{nombre} termina de procesar en {env.now}'): Se muestra un mensaje indicando que la estación de trabajo terminó de procesar un trabajo en un momento específico.\n",
        "\n",
        "* Configuración de la simulación:\n",
        "\n",
        "env = simpy.Environment(): Se crea un entorno de simulación utilizando SimPy. Esto controlará el tiempo y los eventos en la simulación.\n",
        "\n",
        "servidor = simpy.Resource(env, capacity=1): Se crea un recurso (en este caso, el servidor) con una capacidad de 1. Esto simula un servidor único que coordina las estaciones de trabajo. Las estaciones solicitarán acceso a este recurso para procesar trabajos.\n",
        "\n",
        "Se crean tres procesos estacion1, estacion2 y estacion3 que representan tres estaciones de trabajo utilizando la función estacion_trabajo. Cada estación de trabajo tiene un nombre y accede al mismo servidor.\n",
        "\n",
        "* Ejecución de la simulación:\n",
        "\n",
        "env.run(until=20): Se ejecuta la simulación durante un período de tiempo de 20 unidades de tiempo. Durante este tiempo, las estaciones de trabajo solicitarán y procesarán trabajos utilizando el servidor.\n",
        "El resultado de la simulación mostrará mensajes que indican cuándo cada estación de trabajo solicita y completa trabajos, lo que te permitirá observar cómo se coordina el flujo de trabajo en el proceso industrial."
      ],
      "metadata": {
        "id": "K5aZAkTDYSsj"
      }
    },
    {
      "cell_type": "markdown",
      "source": [
        "### Políticas de Atención (Service Policies)\n",
        "\n",
        "Contexto: Eres el administrador de un hospital y necesitas establecer una política de atención para los pacientes que ingresan al hospital. Quieres garantizar que los pacientes se atiendan de manera apropiada, con prioridad para los casos más graves."
      ],
      "metadata": {
        "id": "ubMYkLBV-hnK"
      }
    },
    {
      "cell_type": "code",
      "source": [
        "class Hospital:\n",
        "    def __init__(self):\n",
        "        self.pacientes_graves = []\n",
        "        self.pacientes_normales = []\n",
        "\n",
        "    def ingresar_paciente(self, paciente, gravedad):\n",
        "        if gravedad == \"grave\":\n",
        "            self.pacientes_graves.append(paciente)\n",
        "        else:\n",
        "            self.pacientes_normales.append(paciente)\n",
        "\n",
        "    def atender_pacientes(self):\n",
        "        for paciente in self.pacientes_graves:\n",
        "            print(f\"Atendiendo al paciente grave: {paciente}\")\n",
        "        for paciente in self.pacientes_normales:\n",
        "            print(f\"Atendiendo al paciente normal: {paciente}\")\n",
        "\n",
        "# Crear un hospital\n",
        "hospital = Hospital()\n",
        "\n",
        "# Ingresar pacientes con diferentes niveles de gravedad\n",
        "hospital.ingresar_paciente(\"Paciente A\", \"grave\")\n",
        "hospital.ingresar_paciente(\"Paciente B\", \"normal\")\n",
        "hospital.ingresar_paciente(\"Paciente C\", \"grave\")\n",
        "\n",
        "# Aplicar la política de atención\n",
        "hospital.atender_pacientes()"
      ],
      "metadata": {
        "colab": {
          "base_uri": "https://localhost:8080/"
        },
        "id": "sg2WKZbL-uOy",
        "outputId": "a724e4c8-ad37-4d18-c047-c01404e23245"
      },
      "execution_count": null,
      "outputs": [
        {
          "output_type": "stream",
          "name": "stdout",
          "text": [
            "Atendiendo al paciente grave: Paciente A\n",
            "Atendiendo al paciente grave: Paciente C\n",
            "Atendiendo al paciente normal: Paciente B\n"
          ]
        }
      ]
    },
    {
      "cell_type": "markdown",
      "source": [
        "### Medidas de Eficiencia - Tiempos de servicio - Fuga de clientes\n",
        "\n",
        "\n",
        "Supongamos que eres el gerente de una tienda minorista y quieres evaluar la eficiencia de tu línea de cajas registradoras. Tienes tres cajas registradoras y deseas analizar cuánto tiempo pasa un cliente esperando en la cola y cuántos clientes pueden abandonar debido a largos tiempos de espera. Tu objetivo es optimizar la eficiencia del proceso de pago.\n",
        "\n",
        "Desarrollo en Python:\n",
        "\n",
        "Primero, definiremos algunas variables y simularemos el proceso de pago en la tienda durante un período de tiempo. Luego, calcularemos las medidas de eficiencia, los tiempos de servicio y la fuga de clientes."
      ],
      "metadata": {
        "id": "Pt75IhYdrBnd"
      }
    },
    {
      "cell_type": "code",
      "source": [
        "import random\n",
        "\n",
        "# Variables del ejemplo\n",
        "numero_cajas = 10\n",
        "tiempo_simulacion_horas = 3\n",
        "clientes_atendidos = 0\n",
        "clientes_abandonaron = 0\n",
        "tiempo_total_servicio = 0\n"
      ],
      "metadata": {
        "id": "bz3qjzbmrEPL"
      },
      "execution_count": null,
      "outputs": []
    },
    {
      "cell_type": "code",
      "source": [
        "# Simulación del proceso de pago\n",
        "for hora in range(tiempo_simulacion_horas):\n",
        "    for caja in range(numero_cajas):\n",
        "        if random.random() < 0.8:  # 80% de probabilidad de que un cliente llegue\n",
        "            tiempo_servicio = random.uniform(1, 5)  # Tiempo de servicio entre 1 y 5 minutos\n",
        "            tiempo_total_servicio += tiempo_servicio\n",
        "            clientes_atendidos += 1\n",
        "            if tiempo_servicio > 4:  # Si el tiempo de servicio es largo, el cliente abandona\n",
        "                clientes_abandonaron += 1"
      ],
      "metadata": {
        "id": "XjJLiObSuEdW"
      },
      "execution_count": null,
      "outputs": []
    },
    {
      "cell_type": "code",
      "source": [
        "# Medidas de eficiencia\n",
        "tiempo_promedio_servicio = tiempo_total_servicio / clientes_atendidos\n",
        "tiempo_promedio_espera = tiempo_promedio_servicio / numero_cajas"
      ],
      "metadata": {
        "id": "DL0CfUCRuHWF"
      },
      "execution_count": null,
      "outputs": []
    },
    {
      "cell_type": "code",
      "source": [
        "# Resultados e interpretación\n",
        "print(f\"Clientes atendidos: {clientes_atendidos}\")\n",
        "print(f\"Clientes que abandonaron debido a largos tiempos de espera: {clientes_abandonaron}\")\n",
        "print(f\"Tiempo promedio de servicio por cliente: {tiempo_promedio_servicio:.2f} minutos\")\n",
        "print(f\"Tiempo promedio de espera por cliente: {tiempo_promedio_espera:.2f} minutos\")"
      ],
      "metadata": {
        "colab": {
          "base_uri": "https://localhost:8080/"
        },
        "id": "eNbpA1hTuM19",
        "outputId": "d9bea56b-e4d2-4801-e3ad-628a5c4cf44e"
      },
      "execution_count": null,
      "outputs": [
        {
          "output_type": "stream",
          "name": "stdout",
          "text": [
            "Clientes atendidos: 24\n",
            "Clientes que abandonaron debido a largos tiempos de espera: 7\n",
            "Tiempo promedio de servicio por cliente: 3.24 minutos\n",
            "Tiempo promedio de espera por cliente: 0.32 minutos\n"
          ]
        }
      ]
    },
    {
      "cell_type": "markdown",
      "source": [
        "Hemos simulado el proceso de pago en la tienda durante un período de 3 horas con 10 cajas registradoras. Los clientes llegan con una probabilidad del 80%, y el tiempo de servicio se selecciona al azar entre 1 y 5 minutos.\n",
        "\n",
        "Calculamos el número de clientes atendidos y el número de clientes que abandonaron debido a largos tiempos de espera (más de 4 minutos en este caso).\n",
        "\n",
        "Calculamos el tiempo promedio de servicio por cliente y el tiempo promedio de espera por cliente.\n",
        "\n",
        "Estos resultados nos permiten evaluar la eficiencia del proceso de pago. Por ejemplo, si muchos clientes están abandonando debido a largos tiempos de espera, esto podría indicar un problema de eficiencia que requiere atención.\n",
        "\n",
        "Este ejemplo demuestra cómo se pueden utilizar medidas de eficiencia, tiempos de servicio y la fuga de clientes para evaluar y mejorar un proceso en un entorno de negocio real."
      ],
      "metadata": {
        "id": "JCaQ0-3GuV0G"
      }
    },
    {
      "cell_type": "markdown",
      "source": [
        "Otro ejemplo:\n",
        "\n",
        "Supongamos que gestionamos una fábrica de productos electrónicos. Tenemos una línea de ensamblaje donde los trabajadores ensamblan componentes en productos terminados. Nos preocupa la eficiencia del proceso, el tiempo de servicio y la posibilidad de que los trabajadores se frustren y abandonen el trabajo debido a condiciones laborales inadecuadas.\n",
        "\n",
        "Problematica: Queremos evaluar la eficiencia de nuestra línea de ensamblaje, medir el tiempo que lleva ensamblar cada producto y controlar la fuga de trabajadores debido a condiciones de trabajo desfavorables.\n",
        "\n",
        "Para abordar este problema, podemos simular la línea de ensamblaje y recopilar datos sobre el tiempo que lleva ensamblar productos y el número de trabajadores que abandonan el proceso debido a tiempos de servicio prolongados o condiciones de trabajo insatisfactorias. Luego, calcularemos medidas de eficiencia y analizaremos los resultados."
      ],
      "metadata": {
        "id": "gVGs3RqG39_u"
      }
    },
    {
      "cell_type": "code",
      "source": [
        "import simpy\n",
        "import random\n",
        "\n",
        "# Configuración de la simulación\n",
        "env = simpy.Environment()\n",
        "tiempo_total_simulacion = 480  # Duración total de la simulación en minutos (8 horas)\n",
        "productos_ensamblados = 0\n",
        "trabajadores_abandonados = 0\n",
        "\n",
        "# Parámetros de la línea de ensamblaje\n",
        "tiempo_ensamblaje_min = 10  # Tiempo mínimo para ensamblar un producto en minutos\n",
        "tiempo_ensamblaje_max = 30  # Tiempo máximo para ensamblar un producto en minutos\n",
        "condiciones_laborales_insatisfactorias = 0.2  # Probabilidad de condiciones laborales insatisfactorias\n",
        "\n",
        "# Función para el ensamblaje de productos\n",
        "def ensamblar_producto(env, trabajador):\n",
        "    global productos_ensamblados, trabajadores_abandonados\n",
        "    while True:\n",
        "        tiempo_ensamblaje = random.uniform(tiempo_ensamblaje_min, tiempo_ensamblaje_max)\n",
        "        yield env.timeout(tiempo_ensamblaje)\n",
        "        productos_ensamblados += 1\n",
        "        if random.random() < condiciones_laborales_insatisfactorias:\n",
        "            trabajadores_abandonados += 1\n",
        "            break\n",
        "\n",
        "# Función para monitorear el proceso de ensamblaje\n",
        "def monitorear_proceso(env):\n",
        "    while True:\n",
        "        yield env.timeout(60)  # Cada 60 minutos\n",
        "        eficiencia = productos_ensamblados / (env.now / 60)  # Productos ensamblados por hora\n",
        "        print(f'Tiempo: {env.now} minutos - Productos ensamblados: {productos_ensamblados} - Eficiencia: {eficiencia:.2f} productos/hora')\n",
        "\n",
        "# Inicialización de trabajadores\n",
        "for i in range(10):  # Supongamos 10 trabajadores\n",
        "    env.process(ensamblar_producto(env, i))\n",
        "\n",
        "# Inicialización del proceso de monitoreo\n",
        "env.process(monitorear_proceso(env))\n",
        "\n",
        "# Ejecución de la simulación\n",
        "env.run(until=tiempo_total_simulacion)\n",
        "\n",
        "# Resultados\n",
        "print(f'\\nProductos ensamblados en total: {productos_ensamblados}')\n",
        "print(f'Trabajadores que abandonaron debido a condiciones laborales insatisfactorias: {trabajadores_abandonados}')\n"
      ],
      "metadata": {
        "colab": {
          "base_uri": "https://localhost:8080/"
        },
        "id": "nvYP-Rw64QYs",
        "outputId": "23e48c27-f4b8-4b73-c068-093bd491404e"
      },
      "execution_count": null,
      "outputs": [
        {
          "output_type": "stream",
          "name": "stdout",
          "text": [
            "Tiempo: 60 minutos - Productos ensamblados: 20 - Eficiencia: 20.00 productos/hora\n",
            "Tiempo: 120 minutos - Productos ensamblados: 36 - Eficiencia: 18.00 productos/hora\n",
            "Tiempo: 180 minutos - Productos ensamblados: 41 - Eficiencia: 13.67 productos/hora\n",
            "Tiempo: 240 minutos - Productos ensamblados: 41 - Eficiencia: 10.25 productos/hora\n",
            "Tiempo: 300 minutos - Productos ensamblados: 41 - Eficiencia: 8.20 productos/hora\n",
            "Tiempo: 360 minutos - Productos ensamblados: 41 - Eficiencia: 6.83 productos/hora\n",
            "Tiempo: 420 minutos - Productos ensamblados: 41 - Eficiencia: 5.86 productos/hora\n",
            "\n",
            "Productos ensamblados en total: 41\n",
            "Trabajadores que abandonaron debido a condiciones laborales insatisfactorias: 10\n"
          ]
        }
      ]
    },
    {
      "cell_type": "markdown",
      "source": [
        "Explicación:\n",
        "\n",
        "Hemos simulado una línea de ensamblaje donde 10 trabajadores ensamblan productos electrónicos.\n",
        "Cada trabajador toma un tiempo aleatorio para ensamblar un producto entre 10 y 30 minutos.\n",
        "Existe una probabilidad del 20% de que un trabajador abandone debido a condiciones laborales insatisfactorias.\n",
        "Hemos monitoreado la eficiencia del proceso cada 60 minutos y calculado el número de productos ensamblados por hora.\n",
        "Al final de la simulación, hemos mostrado el número total de productos ensamblados y el número de trabajadores que abandonaron debido a condiciones laborales insatisfactorias.\n",
        "Este ejemplo ilustra cómo se pueden usar simulaciones en Python para evaluar medidas de eficiencia, tiempos de servicio y la fuga de clientes (en este caso, trabajadores) en un contexto industrial de procesos. Las simulaciones como esta pueden ayudar a tomar decisiones informadas para mejorar la eficiencia y las condiciones de trabajo en la línea de ensamblaje."
      ],
      "metadata": {
        "id": "UdqnW9yZ4iWq"
      }
    },
    {
      "cell_type": "markdown",
      "source": [
        "# **Fórmula de Little en estado estacionario**\n",
        "\n",
        "Puedes calcular L utilizando Python de la siguiente manera:"
      ],
      "metadata": {
        "id": "vP5qAUT2cuwe"
      }
    },
    {
      "cell_type": "code",
      "source": [
        "# Datos del ejemplo\n",
        "lambda_clientes_por_hora = 10  # Tasa de llegada de clientes por hora\n",
        "w_tiempo_promedio_horas = 0.25  # Tiempo promedio que un cliente pasa en el mostrador (en horas)\n",
        "\n",
        "# Calcular L usando la fórmula de Little\n",
        "L = lambda_clientes_por_hora * w_tiempo_promedio_horas\n",
        "\n",
        "# Imprimir el resultado\n",
        "print(f\"El número promedio de clientes en el mostrador de servicio es: {L} clientes\")"
      ],
      "metadata": {
        "colab": {
          "base_uri": "https://localhost:8080/"
        },
        "id": "DxZfoEkrczL9",
        "outputId": "c4e18200-c5c3-40cf-eed9-c396b599624c"
      },
      "execution_count": null,
      "outputs": [
        {
          "output_type": "stream",
          "name": "stdout",
          "text": [
            "El número promedio de clientes en el mostrador de servicio es: 2.5 clientes\n"
          ]
        }
      ]
    },
    {
      "cell_type": "markdown",
      "source": [
        "Interpretación:\n",
        "\n",
        "Hemos calculado la eficiencia de la línea de producción, que es el número promedio de unidades producidas por unidad de tiempo en comparación con la capacidad máxima teórica. En este caso, la eficiencia es el 93.33%, lo que sugiere que la línea de producción está funcionando a un nivel alto, pero no al máximo.\n",
        "\n",
        "Luego, simulamos la producción durante 8 horas y calculamos el total de unidades producidas. Esto nos da una idea de la producción real en ese período.\n",
        "\n",
        "Este ejercicio combina varios conceptos de la ingeniería industrial en un contexto práctico y muestra cómo se pueden aplicar y programar en Python para tomar decisiones informadas sobre la eficiencia de la producción en una fábrica."
      ],
      "metadata": {
        "id": "wMVgQEIGeXuV"
      }
    },
    {
      "cell_type": "markdown",
      "source": [
        "Otro ejemplo, supongamos que tenemos una fábrica que produce productos electrónicos. Los trabajadores ensamblan componentes en productos terminados, y queremos medir el rendimiento del proceso en términos del número promedio de productos en el sistema y el tiempo promedio que un producto pasa en el sistema."
      ],
      "metadata": {
        "id": "_M1o5pA36FiE"
      }
    },
    {
      "cell_type": "code",
      "source": [
        "import simpy\n",
        "import random\n",
        "\n",
        "# Configuración de la simulación\n",
        "env = simpy.Environment()\n",
        "tiempo_total_simulacion = 480  # Duración total de la simulación en minutos (8 horas)\n",
        "productos_ensamblados = 0\n",
        "tiempo_total_sistema = 0\n",
        "\n",
        "# Parámetros del sistema\n",
        "tiempo_ensamblaje_min = 10  # Tiempo mínimo para ensamblar un producto en minutos\n",
        "tiempo_ensamblaje_max = 30  # Tiempo máximo para ensamblar un producto en minutos\n",
        "\n",
        "# Función para el ensamblaje de productos\n",
        "def ensamblar_producto(env):\n",
        "    global productos_ensamblados, tiempo_total_sistema\n",
        "    while True:\n",
        "        tiempo_ensamblaje = random.uniform(tiempo_ensamblaje_min, tiempo_ensamblaje_max)\n",
        "        yield env.timeout(tiempo_ensamblaje)\n",
        "        productos_ensamblados += 1\n",
        "        tiempo_total_sistema += env.now\n",
        "\n",
        "# Inicialización de trabajadores\n",
        "for i in range(10):  # Supongamos 10 trabajadores\n",
        "    env.process(ensamblar_producto(env))\n",
        "\n",
        "# Ejecución de la simulación\n",
        "env.run(until=tiempo_total_simulacion)\n",
        "\n",
        "# Cálculo de medidas de rendimiento\n",
        "lambda_ = productos_ensamblados / tiempo_total_simulacion  # Tasa promedio de llegada de productos\n",
        "W = tiempo_total_sistema / productos_ensamblados  # Tiempo promedio en el sistema\n",
        "L = lambda_ * W  # Número promedio de productos en el sistema\n",
        "\n",
        "# Resultados\n",
        "print(f'Número promedio de productos en el sistema (L): {L:.2f}')\n",
        "print(f'Tasa promedio de llegada de productos (λ): {lambda_:.2f} productos/minuto')\n",
        "print(f'Tiempo promedio que un producto pasa en el sistema (W): {W:.2f} minutos')\n"
      ],
      "metadata": {
        "colab": {
          "base_uri": "https://localhost:8080/"
        },
        "id": "yrW6-8Om6Nhi",
        "outputId": "51b19534-4b23-4ac5-8392-030dcfd37632"
      },
      "execution_count": null,
      "outputs": [
        {
          "output_type": "stream",
          "name": "stdout",
          "text": [
            "Número promedio de productos en el sistema (L): 116.58\n",
            "Tasa promedio de llegada de productos (λ): 0.49 productos/minuto\n",
            "Tiempo promedio que un producto pasa en el sistema (W): 240.16 minutos\n"
          ]
        }
      ]
    },
    {
      "cell_type": "markdown",
      "source": [
        "Hemos simulado una línea de ensamblaje donde 10 trabajadores ensamblan productos electrónicos. Cada trabajador toma un tiempo aleatorio para ensamblar un producto entre 10 y 30 minutos.\n",
        "\n",
        "Después de ejecutar la simulación durante un período de tiempo (en este caso, 8 horas o 480 minutos), calculamos las siguientes medidas de rendimiento:\n",
        "\n",
        "Número promedio de productos en el sistema (L): Usamos la Fórmula de Little (L=λ*W) para calcular el número promedio de productos en el sistema.\n",
        "\n",
        "Tasa promedio de llegada de productos (λ): Calculamos la tasa promedio de llegada de productos dividiendo el número total de productos ensamblados por el tiempo total de simulación.\n",
        "\n",
        "Tiempo promedio que un producto pasa en el sistema (W): Calculamos el tiempo promedio que un producto pasa en el sistema dividiendo el tiempo total en el sistema entre el número total de productos ensamblados.\n",
        "\n",
        "Estas medidas de rendimiento nos permiten evaluar el rendimiento del proceso de ensamblaje en términos de la eficiencia y el tiempo que un producto pasa en el sistema."
      ],
      "metadata": {
        "id": "AaQuZXY86Vp1"
      }
    },
    {
      "cell_type": "markdown",
      "source": [
        "### Ejercicio aplicado\n",
        "\n",
        "Eres el gerente de una fábrica de productos electrónicos y estás tratando de mejorar la eficiencia de tu línea de producción. Tienes dos máquinas en serie, Máquina A y Máquina B, que ensamblan productos. Los productos llegan a una tasa promedio de 20 unidades por hora y se ensamblan en Máquina A, que tiene un tiempo promedio de servicio de 5 minutos por unidad. Luego, se envían a Máquina B, que tiene un tiempo promedio de servicio de 7 minutos por unidad. Quieres calcular la eficiencia de tu línea de producción y entender si hay un cuello de botella.\n",
        "\n",
        "**Cálculos y Simulación en Python:**\n",
        "\n",
        "Primero, calcularemos algunos valores clave y luego simularemos la producción durante un período de 8 horas."
      ],
      "metadata": {
        "id": "L6JPGfLqdi7g"
      }
    },
    {
      "cell_type": "code",
      "source": [
        "# Datos del ejercicio\n",
        "tasa_llegada = 20  # Unidades por hora\n",
        "tiempo_servicio_maquina_a = 2 #/ 60  # Tiempo de servicio de Máquina A en horas\n",
        "tiempo_servicio_maquina_b = 3 #/ 60  # Tiempo de servicio de Máquina B en horas\n",
        "horas_simulacion = 8\n",
        "\n",
        "# Calcular la eficiencia de la línea de producción\n",
        "lambda_unidades_por_hora = tasa_llegada\n",
        "L_maquina_a = lambda_unidades_por_hora * tiempo_servicio_maquina_a\n",
        "L_maquina_b = L_maquina_a * tiempo_servicio_maquina_b\n",
        "eficiencia = L_maquina_b / (lambda_unidades_por_hora * horas_simulacion)\n",
        "\n",
        "# Simulación de la producción durante 8 horas\n",
        "produccion_total = 0\n",
        "for hora in range(horas_simulacion):\n",
        "    unidades_producidas_a = min(lambda_unidades_por_hora, L_maquina_a)\n",
        "    L_maquina_a -= unidades_producidas_a\n",
        "    unidades_producidas_b = min(unidades_producidas_a, L_maquina_b)\n",
        "    L_maquina_b -= unidades_producidas_b\n",
        "    produccion_total += unidades_producidas_b\n",
        "\n",
        "# Imprimir resultados\n",
        "print(f\"La eficiencia de la línea de producción es: {eficiencia:.2%}\")\n",
        "print(f\"Total de unidades producidas en 8 horas: {produccion_total} unidades\")"
      ],
      "metadata": {
        "colab": {
          "base_uri": "https://localhost:8080/"
        },
        "id": "kKqkOkaieMBo",
        "outputId": "3aa78286-8380-4499-f726-bc04920a968a"
      },
      "execution_count": null,
      "outputs": [
        {
          "output_type": "stream",
          "name": "stdout",
          "text": [
            "La eficiencia de la línea de producción es: 75.00%\n",
            "Total de unidades producidas en 8 horas: 40 unidades\n"
          ]
        }
      ]
    }
  ]
}
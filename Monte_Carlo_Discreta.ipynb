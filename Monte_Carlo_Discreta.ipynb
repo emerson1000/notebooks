{
  "nbformat": 4,
  "nbformat_minor": 0,
  "metadata": {
    "colab": {
      "provenance": [],
      "include_colab_link": true
    },
    "kernelspec": {
      "name": "python3",
      "display_name": "Python 3"
    },
    "language_info": {
      "name": "python"
    }
  },
  "cells": [
    {
      "cell_type": "markdown",
      "metadata": {
        "id": "view-in-github",
        "colab_type": "text"
      },
      "source": [
        "<a href=\"https://colab.research.google.com/github/emerson1000/notebooks/blob/main/Monte_Carlo_Discreta.ipynb\" target=\"_parent\"><img src=\"https://colab.research.google.com/assets/colab-badge.svg\" alt=\"Open In Colab\"/></a>"
      ]
    },
    {
      "cell_type": "markdown",
      "source": [
        "# **MÉTODO MONTE CARLO**"
      ],
      "metadata": {
        "id": "6WUcltLHY1Nn"
      }
    },
    {
      "cell_type": "markdown",
      "source": [
        "## **Montecarlo discreta**"
      ],
      "metadata": {
        "id": "ICaCenAk134m"
      }
    },
    {
      "cell_type": "markdown",
      "source": [
        "###**Ejemplo de Monte Carlo en la Calidad de Producción de Tornillos**\n",
        "\n",
        "Supongamos que sabemos que la probabilidad de que un tornillo sea defectuoso es del 5%. Queremos usar el método Monte Carlo para simular la producción y estimar la probabilidad de que, en una muestra aleatoria de 100 tornillos, haya al menos un tornillo defectuoso."
      ],
      "metadata": {
        "id": "5vPpE3y_Y5Or"
      }
    },
    {
      "cell_type": "code",
      "execution_count": null,
      "metadata": {
        "colab": {
          "base_uri": "https://localhost:8080/"
        },
        "id": "UDO7vaC5Y0cJ",
        "outputId": "209872d9-65ea-4eea-93e9-d053486cf0db"
      },
      "outputs": [
        {
          "output_type": "stream",
          "name": "stdout",
          "text": [
            "Probabilidad estimada de que al menos un tornillo sea defectuoso: 99.41%\n"
          ]
        }
      ],
      "source": [
        "import random\n",
        "\n",
        "# Parámetros del problema\n",
        "probabilidad_defectuoso = 0.05\n",
        "num_tornillos = 100\n",
        "num_simulaciones = 100000\n",
        "tornillos_defectuosos = 0\n",
        "\n",
        "for _ in range(num_simulaciones):\n",
        "    # Simular la producción de 100 tornillos\n",
        "    muestra = [random.random() < probabilidad_defectuoso for _ in range(num_tornillos)]\n",
        "\n",
        "    # Verificar si hay al menos un tornillo defectuoso en la muestra\n",
        "    if any(muestra):\n",
        "        tornillos_defectuosos += 1\n",
        "\n",
        "# Calcular la probabilidad estimada\n",
        "probabilidad_estimada = tornillos_defectuosos / num_simulaciones\n",
        "\n",
        "print(f\"Probabilidad estimada de que al menos un tornillo sea defectuoso: {probabilidad_estimada:.2%}\")\n"
      ]
    },
    {
      "cell_type": "markdown",
      "source": [
        "####**Codigo paso a paso:**\n",
        "\n",
        "* probabilidad_defectuoso = 0.05: Esto establece la probabilidad de que un tornillo sea defectuoso en un 5%. Esto es el valor conocido del problema.\n",
        "\n",
        "* num_tornillos = 100: Representa el número de tornillos en un lote. Estamos simulando un lote de 100 tornillos.\n",
        "\n",
        "* num_simulaciones = 100000: Define cuántas simulaciones de Montecarlo se realizarán para estimar la probabilidad. Cuantas más simulaciones se realicen, más precisa será la estimación.\n",
        "\n",
        "* tornillos_defectuosos = 0: Inicializa el contador de tornillos defectuosos a 0. Este contador se utiliza para llevar un registro de cuántas veces se encuentra al menos un tornillo defectuoso en una muestra durante las simulaciones.\n",
        "\n",
        "El bucle for itera a través de las simulaciones. En cada iteración, se realizan los siguientes pasos:\n",
        "\n",
        "1. muestra = [random.random() < probabilidad_defectuoso for _ in range(num_tornillos)]: Se genera una muestra de 100 tornillos simulados. Se utiliza una comprensión de lista para crear una lista de booleanos donde True representa que un tornillo es defectuoso, y False que es no defectuoso. La probabilidad de que un tornillo sea defectuoso se determina generando un número aleatorio entre 0 y 1 y comparándolo con probabilidad_defectuoso. Si el número aleatorio es menor que probabilidad_defectuoso, el tornillo se considera defectuoso.\n",
        "\n",
        "2. if any(muestra):: Se verifica si al menos un tornillo en la muestra es defectuoso. La función any devuelve True si al menos uno de los elementos en la lista muestra es True.\n",
        "\n",
        "3. Si se encuentra al menos un tornillo defectuoso en la muestra, se incrementa el contador tornillos_defectuosos en 1.\n",
        "\n",
        "Después de realizar todas las simulaciones, calculamos la probabilidad estimada dividiendo tornillos_defectuosos por num_simulaciones. Esto nos proporciona una estimación de la probabilidad de que al menos un tornillo sea defectuoso en un lote de 100 tornillos.\n",
        "\n",
        "Finalmente, se imprime la probabilidad estimada en formato de porcentaje."
      ],
      "metadata": {
        "id": "HWU9RcB_0i7o"
      }
    },
    {
      "cell_type": "markdown",
      "source": [
        "###**Ejemplo de Monte Carlo en el Control de Calidad de Envases de Alimentos**\n",
        "\n",
        "Supongamos que en una fábrica de envases de alimentos, la probabilidad de que un envase esté defectuoso es del 8%. Queremos estimar la probabilidad de que, en un lote de 1000 envases, más del 90% de los envases sean no defectuosos."
      ],
      "metadata": {
        "id": "wSW3pZyggcbR"
      }
    },
    {
      "cell_type": "code",
      "source": [
        "import random\n",
        "\n",
        "# Parámetros del problema\n",
        "probabilidad_defectuoso = 0.08\n",
        "tamaño_lote = 1000\n",
        "umbral_calidad = 0.90  # Umbral para considerar que un lote es de buena calidad\n",
        "num_simulaciones = 10000\n",
        "lotes_de_calidad = 0\n",
        "\n",
        "for _ in range(num_simulaciones):\n",
        "    # Simular la producción de un lote de envases\n",
        "    muestra = [random.random() > probabilidad_defectuoso for _ in range(tamaño_lote)]\n",
        "\n",
        "    # Verificar si el lote cumple con el umbral de calidad\n",
        "    if sum(muestra) / tamaño_lote > umbral_calidad:\n",
        "        lotes_de_calidad += 1\n",
        "\n",
        "# Calcular la probabilidad estimada\n",
        "probabilidad_estimada = lotes_de_calidad / num_simulaciones\n",
        "\n",
        "print(f\"Probabilidad estimada de que un lote sea de buena calidad: {probabilidad_estimada:.2%}\")"
      ],
      "metadata": {
        "colab": {
          "base_uri": "https://localhost:8080/"
        },
        "id": "uaRWlizZgePJ",
        "outputId": "816a045f-c1d5-4ed6-a59b-d5d9d04778c3"
      },
      "execution_count": null,
      "outputs": [
        {
          "output_type": "stream",
          "name": "stdout",
          "text": [
            "Probabilidad estimada de que un lote sea de buena calidad: 98.64%\n"
          ]
        }
      ]
    },
    {
      "cell_type": "markdown",
      "source": [
        "###**Simulación de una Distribución de Poisson en Python:**\n"
      ],
      "metadata": {
        "id": "7YGqvGpdwsEI"
      }
    },
    {
      "cell_type": "code",
      "source": [
        "import numpy as np\n",
        "\n",
        "# Parámetros de la distribución de Poisson\n",
        "tasa_ocurrencia = 2.5  # Lambda (λ)\n",
        "\n",
        "# Simulación de una variable aleatoria de Poisson\n",
        "resultado = np.random.poisson(tasa_ocurrencia)\n",
        "\n",
        "print(f\"Variable aleatoria de Poisson generada: {resultado}\")\n"
      ],
      "metadata": {
        "colab": {
          "base_uri": "https://localhost:8080/"
        },
        "id": "w9314RnwwsyW",
        "outputId": "a49544ac-73d9-4996-8023-b0b18ffe2ac6"
      },
      "execution_count": null,
      "outputs": [
        {
          "output_type": "stream",
          "name": "stdout",
          "text": [
            "Variable aleatoria de Poisson generada: 2\n"
          ]
        }
      ]
    },
    {
      "cell_type": "markdown",
      "source": [
        "###**Simulación de una Distribución de Bernoulli en Python**"
      ],
      "metadata": {
        "id": "skLAd77pw2wy"
      }
    },
    {
      "cell_type": "code",
      "source": [
        "import numpy as np\n",
        "\n",
        "# Parámetro de la distribución de Bernoulli\n",
        "probabilidad_exito = 0.4\n",
        "\n",
        "# Simulación de una variable de Bernoulli\n",
        "resultado = np.random.choice([0, 1], p=[1 - probabilidad_exito, probabilidad_exito])\n",
        "\n",
        "print(f\"Variable de Bernoulli generada: {resultado}\")"
      ],
      "metadata": {
        "colab": {
          "base_uri": "https://localhost:8080/"
        },
        "id": "NqSrKr86xdB9",
        "outputId": "c2723a48-748f-4764-d962-742a501fd86c"
      },
      "execution_count": null,
      "outputs": [
        {
          "output_type": "stream",
          "name": "stdout",
          "text": [
            "Variable de Bernoulli generada: 0\n"
          ]
        }
      ]
    },
    {
      "cell_type": "markdown",
      "source": [
        "###**Simulación de una Distribución Binomial en Python:**"
      ],
      "metadata": {
        "id": "43Q-xEHUxfOA"
      }
    },
    {
      "cell_type": "code",
      "source": [
        "import numpy as np\n",
        "\n",
        "# Parámetros de la distribución binomial\n",
        "num_ensayos = 10\n",
        "probabilidad_exito = 0.3\n",
        "\n",
        "# Simulación de una variable aleatoria binomial\n",
        "resultado = np.random.binomial(num_ensayos, probabilidad_exito)\n",
        "\n",
        "print(f\"Variable aleatoria binomial generada: {resultado}\")"
      ],
      "metadata": {
        "colab": {
          "base_uri": "https://localhost:8080/"
        },
        "id": "q0bEP2KRxlHV",
        "outputId": "6ada0d4b-a75a-4df8-bac9-7e2f6c791350"
      },
      "execution_count": null,
      "outputs": [
        {
          "output_type": "stream",
          "name": "stdout",
          "text": [
            "Variable aleatoria binomial generada: 0\n"
          ]
        }
      ]
    },
    {
      "cell_type": "markdown",
      "source": [
        "###**Ejercicio de Simulación Monte Carlo - Distribución Binomial**\n",
        "\n",
        "Supongamos que en una línea de producción, la probabilidad de que un producto sea defectuoso es del 10%. Queremos simular el número de productos defectuosos en una muestra de 50 productos."
      ],
      "metadata": {
        "id": "JAHbSWaXEYXD"
      }
    },
    {
      "cell_type": "code",
      "source": [
        "import random\n",
        "\n",
        "# Parámetros del problema\n",
        "probabilidad_defectuoso = 0.10\n",
        "tamano_muestra = 50\n",
        "num_simulaciones = 10000\n",
        "\n",
        "# Función para generar una variable aleatoria binomial usando el Método de la Transformada Inversa\n",
        "def generar_variable_binomial(probabilidad_exito, tamano_muestra):\n",
        "    exitos = 0\n",
        "    for _ in range(tamano_muestra):\n",
        "        if random.random() < probabilidad_exito:\n",
        "            exitos += 1\n",
        "    return exitos\n",
        "\n",
        "# Realizar simulaciones y almacenar resultados\n",
        "resultados = []\n",
        "\n",
        "for _ in range(num_simulaciones):\n",
        "    num_defectuosos = generar_variable_binomial(probabilidad_defectuoso, tamano_muestra)\n",
        "    resultados.append(num_defectuosos)\n",
        "\n",
        "# Calcular estadísticas\n",
        "promedio = sum(resultados) / num_simulaciones\n",
        "probabilidad_exacta = (probabilidad_defectuoso ** tamano_muestra) * (1 - probabilidad_defectuoso) ** (tamano_muestra - tamano_muestra)\n",
        "print(f\"Promedio estimado de productos defectuosos: {promedio:.2f}\")\n",
        "print(f\"Probabilidad exacta de {tamano_muestra} productos defectuosos: {probabilidad_exacta:.6f}\")\n"
      ],
      "metadata": {
        "colab": {
          "base_uri": "https://localhost:8080/"
        },
        "id": "ze3VPs7zEZ_z",
        "outputId": "c39bb00c-9b97-4712-90f9-675b3a5f710b"
      },
      "execution_count": null,
      "outputs": [
        {
          "output_type": "stream",
          "name": "stdout",
          "text": [
            "Promedio estimado de productos defectuosos: 5.00\n",
            "Probabilidad exacta de 50 productos defectuosos: 0.000000\n"
          ]
        }
      ]
    },
    {
      "cell_type": "markdown",
      "source": [
        "En este ejercicio, hemos utilizado el Método de la Transformada Inversa para simular la variable aleatoria discreta que representa el número de productos defectuosos en una muestra de 50 productos. Hemos realizado 10,000 simulaciones y calculado el promedio de productos defectuosos. Además, hemos comparado el resultado estimado con la probabilidad exacta de obtener una cantidad específica de productos defectuosos en la muestra.\n",
        "\n",
        "Este tipo de simulación puede ser valiosa en la industria para evaluar la calidad de la producción y tomar decisiones informadas sobre el control de calidad y la gestión de la producción. La simulación Monte Carlo permite modelar situaciones realistas en las que las variables aleatorias discretas desempeñan un papel importante."
      ],
      "metadata": {
        "id": "IaxzhJSbEnyj"
      }
    },
    {
      "cell_type": "markdown",
      "source": [
        "###**Ejercicio de Simulación Monte Carlo - Distribución de Poisson**\n",
        "\n",
        "Supongamos que en una línea de producción, la tasa promedio de productos defectuosos por día es de 2. Queremos simular el número de productos defectuosos en un día de producción."
      ],
      "metadata": {
        "id": "alv8LjPNEpvf"
      }
    },
    {
      "cell_type": "code",
      "source": [
        "import random\n",
        "import math\n",
        "\n",
        "# Parámetros del problema\n",
        "tasa_defectuosos = 2\n",
        "dias_simulados = 10000\n",
        "\n",
        "# Función para generar una variable aleatoria de Poisson usando el Método de la Transformada Inversa\n",
        "def generar_variable_poisson(tasa_promedio):\n",
        "    x = 0\n",
        "    p = math.exp(-tasa_promedio)\n",
        "    s = p\n",
        "    u = random.random()\n",
        "    while u > s:\n",
        "        x += 1\n",
        "        p = p * tasa_promedio / x\n",
        "        s = s + p\n",
        "    return x\n",
        "\n",
        "# Realizar simulaciones y almacenar resultados\n",
        "resultados = []\n",
        "\n",
        "for _ in range(dias_simulados):\n",
        "    num_defectuosos = generar_variable_poisson(tasa_defectuosos)\n",
        "    resultados.append(num_defectuosos)\n",
        "\n",
        "# Calcular estadísticas\n",
        "promedio = sum(resultados) / dias_simulados\n",
        "probabilidad_exacta = (math.exp(-tasa_defectuosos) * (tasa_defectuosos ** 0)) / math.factorial(0)\n",
        "print(f\"Promedio estimado de productos defectuosos por día: {promedio:.2f}\")\n",
        "print(f\"Probabilidad exacta de 0 productos defectuosos: {probabilidad_exacta:.6f}\")\n"
      ],
      "metadata": {
        "colab": {
          "base_uri": "https://localhost:8080/"
        },
        "id": "-Q4kK3gWEvDw",
        "outputId": "99049dcc-d402-4507-a91a-aa40cd5c9039"
      },
      "execution_count": null,
      "outputs": [
        {
          "output_type": "stream",
          "name": "stdout",
          "text": [
            "Promedio estimado de productos defectuosos por día: 2.02\n",
            "Probabilidad exacta de 0 productos defectuosos: 0.135335\n"
          ]
        }
      ]
    },
    {
      "cell_type": "markdown",
      "source": [
        "En este ejercicio, hemos utilizado el Método de la Transformada Inversa para simular la variable aleatoria discreta que representa la cantidad de productos defectuosos en un día de producción. Hemos realizado 10,000 simulaciones y calculado el promedio de productos defectuosos. Además, hemos comparado el resultado estimado con la probabilidad exacta de que no haya productos defectuosos en un día.\n",
        "\n",
        "Este tipo de simulación puede ser útil en la industria para evaluar la calidad de la producción y tomar decisiones informadas sobre el control de calidad y la gestión de la producción en situaciones donde se espera una tasa de eventos raros, como productos defectuosos. La simulación Monte Carlo permite modelar y analizar estos escenarios con precisión."
      ],
      "metadata": {
        "id": "Ft3fbs4fE3Yz"
      }
    },
    {
      "cell_type": "markdown",
      "source": [
        "###**Ejercicio de Simulación Monte Carlo - Distribución Hipergeométrica**\n",
        "\n",
        "En una línea de producción, tenemos una gran cantidad de productos, algunos de los cuales son defectuosos y otros son no defectuosos. Queremos simular la selección aleatoria de 10 productos no defectuosos en una muestra de 30 productos."
      ],
      "metadata": {
        "id": "71S7bgT1GC6y"
      }
    },
    {
      "cell_type": "code",
      "source": [
        "import random\n",
        "\n",
        "# Parámetros del problema\n",
        "productos_no_defectuosos = 20\n",
        "productos_defectuosos = 10\n",
        "tamano_muestra = 10\n",
        "num_simulaciones = 10000\n",
        "\n",
        "# Función para generar una variable aleatoria hipergeométrica usando el Método de la Transformada Inversa\n",
        "def generar_variable_hipergeometrica(productos_no_defectuosos, productos_defectuosos, tamano_muestra):\n",
        "    muestra = []\n",
        "    for _ in range(productos_no_defectuosos):\n",
        "        muestra.append(1)  # 1 representa un producto no defectuoso\n",
        "    for _ in range(productos_defectuosos):\n",
        "        muestra.append(0)  # 0 representa un producto defectuoso\n",
        "    random.shuffle(muestra)\n",
        "    muestra_seleccionada = muestra[:tamano_muestra]\n",
        "    return sum(muestra_seleccionada)\n",
        "\n",
        "# Realizar simulaciones y almacenar resultados\n",
        "resultados = []\n",
        "\n",
        "for _ in range(num_simulaciones):\n",
        "    num_no_defectuosos_seleccionados = generar_variable_hipergeometrica(productos_no_defectuosos, productos_defectuosos, tamano_muestra)\n",
        "    resultados.append(num_no_defectuosos_seleccionados)\n",
        "\n",
        "# Calcular estadísticas\n",
        "promedio = sum(resultados) / num_simulaciones\n",
        "\n",
        "print(f\"Promedio estimado de productos no defectuosos seleccionados: {promedio:.2f}\")\n"
      ],
      "metadata": {
        "colab": {
          "base_uri": "https://localhost:8080/"
        },
        "id": "xYJ66lOkGEch",
        "outputId": "3a54c5ca-212c-43f9-d255-242a777fcf99"
      },
      "execution_count": null,
      "outputs": [
        {
          "output_type": "stream",
          "name": "stdout",
          "text": [
            "Promedio estimado de productos no defectuosos seleccionados: 6.67\n"
          ]
        }
      ]
    },
    {
      "cell_type": "markdown",
      "source": [
        "En este ejercicio, hemos utilizado el Método de la Transformada Inversa para simular la variable aleatoria discreta que representa la cantidad de productos no defectuosos seleccionados en una muestra de 10 productos de una población de 30 productos. Hemos realizado 10,000 simulaciones y calculado el promedio de productos no defectuosos seleccionados.\n",
        "\n",
        "Este tipo de simulación es útil en la industria para evaluar el proceso de selección y toma de muestras en situaciones en las que se necesitan seleccionar productos no defectuosos de una población mixta. La simulación Monte Carlo permite modelar y analizar este tipo de escenarios de manera precisa."
      ],
      "metadata": {
        "id": "p_Jh8ZyyGMkq"
      }
    },
    {
      "cell_type": "markdown",
      "source": [
        "## **Montecarlo continua**"
      ],
      "metadata": {
        "id": "i3e-7vXN1y1o"
      }
    },
    {
      "cell_type": "markdown",
      "source": [
        "###**Ejemplo de Monte Carlo en la Gestión de Inventario de una Tienda**\n",
        "\n",
        "\n",
        "Supongamos que una tienda necesita mantener un inventario mínimo de un producto muy demandado, como papel higiénico, para evitar la falta de existencias. La demanda diaria de papel higiénico sigue una distribución normal con una media de 30 rollos por día y una desviación estándar de 5 rollos por día.\n",
        "\n",
        "Queremos estimar cuál debería ser el nivel de stock mínimo para garantizar que, en al menos el 95% de los días, no se agoten los rollos de papel higiénico."
      ],
      "metadata": {
        "id": "1ZYuqFK5jN4j"
      }
    },
    {
      "cell_type": "code",
      "source": [
        "import random\n",
        "\n",
        "# Parámetros del problema\n",
        "demanda_media = 30\n",
        "demanda_desviacion = 5\n",
        "nivel_confianza = 0.95\n",
        "dias_simulados = 365  # Un año de simulación\n",
        "stock_minimo = 0\n",
        "simulaciones_con_stock = 0\n",
        "\n",
        "for _ in range(10000):\n",
        "    stock = stock_minimo\n",
        "    agotados = 0\n",
        "    for _ in range(dias_simulados):\n",
        "        demanda = max(0, int(random.normalvariate(demanda_media, demanda_desviacion)))\n",
        "        stock -= demanda\n",
        "        if stock < 0:\n",
        "            agotados += 1\n",
        "            stock = 0\n",
        "    if agotados / dias_simulados <= 1 - nivel_confianza:\n",
        "        simulaciones_con_stock += 1\n",
        "\n",
        "# Calcular el nivel de stock mínimo estimado\n",
        "nivel_stock_minimo_estimado = stock_minimo + 1\n",
        "\n",
        "print(f\"Nivel de stock mínimo estimado para asegurar el {nivel_confianza * 100:.0f}% de los días sin agotamiento: {nivel_stock_minimo_estimado}\")"
      ],
      "metadata": {
        "colab": {
          "base_uri": "https://localhost:8080/"
        },
        "id": "cw-UZsmVjPiV",
        "outputId": "6004910d-0fe8-45ad-def8-5c1ea5ebf8a7"
      },
      "execution_count": null,
      "outputs": [
        {
          "output_type": "stream",
          "name": "stdout",
          "text": [
            "Nivel de stock mínimo estimado para asegurar el 95% de los días sin agotamiento: 1\n"
          ]
        }
      ]
    },
    {
      "cell_type": "markdown",
      "source": [
        "###**Ejemplo de Monte Carlo en la Optimización de la Producción en una Fábrica**\n",
        "\n",
        "Supongamos que tienes una fábrica que produce un producto específico y que la demanda diaria de este producto sigue una distribución normal con una media de 300 unidades por día y una desviación estándar de 50 unidades por día. Cada unidad producida tiene un costo de producción fijo de 5 pesos y se vende a 10 pesos. Queremos determinar cuántas unidades se deben producir diariamente para maximizar las ganancias en un mes (30 días)."
      ],
      "metadata": {
        "id": "zrE7KWRLkWx3"
      }
    },
    {
      "cell_type": "code",
      "source": [
        "import random\n",
        "\n",
        "# Parámetros del problema\n",
        "costo_produccion = 5  # Costo por unidad producida\n",
        "precio_venta = 10    # Precio de venta por unidad\n",
        "dias_mes = 30\n",
        "\n",
        "ganancias_maximas = 0\n",
        "produccion_optima = 0\n",
        "\n",
        "for produccion_diaria in range(0, 501, 10):  # Probamos diferentes cantidades de producción\n",
        "    ganancias_totales = 0\n",
        "    for _ in range(dias_mes):\n",
        "        demanda_diaria = int(random.normalvariate(300, 50))\n",
        "        produccion_diaria = min(produccion_diaria, demanda_diaria)  # No se pueden vender más unidades de las producidas\n",
        "        ganancias_dia = (min(produccion_diaria, demanda_diaria) * precio_venta) - (produccion_diaria * costo_produccion)\n",
        "        ganancias_totales += ganancias_dia\n",
        "    if ganancias_totales > ganancias_maximas:\n",
        "        ganancias_maximas = ganancias_totales\n",
        "        produccion_optima = produccion_diaria\n",
        "\n",
        "print(f\"Cantidad óptima a producir diariamente: {produccion_optima}\")\n",
        "print(f\"Ganancias máximas en un mes: ${ganancias_maximas:.2f}\")\n"
      ],
      "metadata": {
        "colab": {
          "base_uri": "https://localhost:8080/"
        },
        "id": "3AvavHjUkchy",
        "outputId": "a4df63b1-a323-4d9d-a8fe-ed21da59a5e0"
      },
      "execution_count": null,
      "outputs": [
        {
          "output_type": "stream",
          "name": "stdout",
          "text": [
            "Cantidad óptima a producir diariamente: 226\n",
            "Ganancias máximas en un mes: $39785.00\n"
          ]
        }
      ]
    },
    {
      "cell_type": "markdown",
      "source": [
        "Utilizado el método Monte Carlo, se estima la cantidad óptima de productos a producir diariamente en una fábrica con el objetivo de maximizar las ganancias en un mes. Se probaron diferentes cantidades de producción diaria y se realizaron simulaciones para evaluar las ganancias obtenidas."
      ],
      "metadata": {
        "id": "m9FnCzh-mnti"
      }
    }
  ]
}
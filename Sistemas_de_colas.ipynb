{
  "nbformat": 4,
  "nbformat_minor": 0,
  "metadata": {
    "colab": {
      "provenance": [],
      "authorship_tag": "ABX9TyM1FnGTzU4Ia9mBzlgIw2bJ",
      "include_colab_link": true
    },
    "kernelspec": {
      "name": "python3",
      "display_name": "Python 3"
    },
    "language_info": {
      "name": "python"
    }
  },
  "cells": [
    {
      "cell_type": "markdown",
      "metadata": {
        "id": "view-in-github",
        "colab_type": "text"
      },
      "source": [
        "<a href=\"https://colab.research.google.com/github/emerson1000/notebooks/blob/main/Sistemas_de_colas.ipynb\" target=\"_parent\"><img src=\"https://colab.research.google.com/assets/colab-badge.svg\" alt=\"Open In Colab\"/></a>"
      ]
    },
    {
      "cell_type": "markdown",
      "source": [
        "##Sistemas de colas en el contexto industrial"
      ],
      "metadata": {
        "id": "Fs6xN70Z1hsv"
      }
    },
    {
      "cell_type": "markdown",
      "source": [
        "###Los sistemas de colas son modelos matemáticos que se utilizan para describir la interacción entre clientes y servidores. Se utilizan en una variedad de contextos, incluyendo la industria, el comercio, los servicios y el transporte.\n",
        "\n",
        "###En este trabajo, se analizarán dos tipos de sistemas de colas en el contexto industrial: el sistema MM1 y el sistema MG (M3)"
      ],
      "metadata": {
        "id": "DG6I4af31lPS"
      }
    },
    {
      "cell_type": "markdown",
      "source": [
        "##Sistema MM1\n",
        "\n",
        "###El sistema MM1 es un sistema de colas en el que los clientes llegan a un servidor de forma independiente y aleatoria, con una tasa de llegada constante. El servidor tiene una capacidad infinita y puede atender a los clientes de forma instantánea.\n",
        "\n",
        "##Elementos del sistema\n",
        "\n",
        "###Los elementos del sistema MM1 son los siguientes:\n",
        "\n",
        "###Clientes: Los clientes son las unidades que llegan al sistema para ser atendidas.\n",
        "Servidor: El servidor es la unidad que atiende a los clientes.\n",
        "Tasa de llegada: La tasa de llegada es la velocidad a la que llegan los clientes al sistema.\n",
        "Tasa de servicio: La tasa de servicio es la velocidad a la que el servidor atiende a los clientes."
      ],
      "metadata": {
        "id": "JjX5jchw2Lck"
      }
    },
    {
      "cell_type": "markdown",
      "source": [
        "###Relaciones fundamentales\n",
        "\n",
        "####Las relaciones fundamentales para el cálculo de medidas de desempeño e indicadores en el sistema MM1 son las siguientes:\n",
        "\n",
        "Parámetro de utilización: El parámetro de utilización es la fracción del tiempo que el servidor está ocupado.\n",
        "\n",
        "utilización = tasa_llegada / tasa_servicio\n",
        "\n",
        "Tiempo medio de espera: El tiempo medio de espera es el tiempo que un cliente promedio espera en la cola antes de ser atendido.\n",
        "\n",
        "tiempo_espera = 1 / (tasa_servicio - tasa_llegada)\n",
        "\n",
        "Longitud media de la cola: La longitud media de la cola es el número promedio de clientes que están esperando en la cola.\n",
        "\n",
        "longitud_cola = tiempo_espera * tasa_llegada\n",
        "\n"
      ],
      "metadata": {
        "id": "c6Sbja342bPG"
      }
    },
    {
      "cell_type": "markdown",
      "source": [
        "###Caso de uso MM1"
      ],
      "metadata": {
        "id": "EwTi2IdX4Q9g"
      }
    },
    {
      "cell_type": "markdown",
      "source": [
        "Consideremos un cajero automático de un banco. Los clientes son las personas que llegan al cajero automático para realizar una transacción. El servidor es el cajero automático.\n",
        "\n",
        "Se supone que la tasa de llegada de las personas es constante y es de 10 personas por hora. La tasa de servicio del cajero automático es también constante y es de 12 personas por hora."
      ],
      "metadata": {
        "id": "6EvMQMaC4T1v"
      }
    },
    {
      "cell_type": "code",
      "execution_count": null,
      "metadata": {
        "colab": {
          "base_uri": "https://localhost:8080/"
        },
        "id": "7YHZg7bn1Tah",
        "outputId": "4dc427d0-900f-4321-de69-92659a249569"
      },
      "outputs": [
        {
          "output_type": "stream",
          "name": "stdout",
          "text": [
            "Tiempo de espera promedio en el cajero automático: 0.033573418979360115 horas\n",
            "Utilización en el cajero automático: 0.8333333333333334\n"
          ]
        }
      ],
      "source": [
        "##Solución\n",
        "import numpy as np\n",
        "import matplotlib.pyplot as plt\n",
        "#Importar librerías necesarias\n",
        "\n",
        "# Parámetros del sistema MM1 para el cajero automático\n",
        "lambda_mm1 = 10.0  # Tasa de llegada (personas por hora)\n",
        "mu_mm1 = 12.0      # Tasa de servicio (personas por hora)\n",
        "\n",
        "# Simulación del sistema MM1 para el cajero automático\n",
        "tiempo_llegada_mm1 = np.random.exponential(1/lambda_mm1, 1000) # Genera 1000 tiempos de llegada con una distribución exponencial\n",
        "tiempo_servicio_mm1 = np.random.exponential(1/mu_mm1, 1000) # Genera 1000 tiempos de servicio con una distribución exponencial\n",
        "tiempo_espera_mm1 = np.maximum(0, tiempo_servicio_mm1 - tiempo_llegada_mm1)\n",
        "# Calcula el tiempo de espera para cada cliente como la diferencia entre tiempo de servicio y tiempo de llegada,\n",
        "# pero evita tiempos de espera negativos\n",
        "\n",
        "# Medidas de desempeño para el sistema MM1 del cajero automático\n",
        "promedio_tiempo_espera_mm1 = np.mean(tiempo_espera_mm1)\n",
        "# Calcula el tiempo promedio de espera\n",
        "utilizacion_mm1 = lambda_mm1 / mu_mm1\n",
        "# Calcula la utilización del sistema\n",
        "\n",
        "# Imprimir resultados y conclusiones\n",
        "print(f\"Tiempo de espera promedio en el cajero automático: {promedio_tiempo_espera_mm1} horas\")\n",
        "# Medidas de desempeño para el sistema MM1 del cajero automático\n",
        "print(f\"Utilización en el cajero automático: {utilizacion_mm1}\")"
      ]
    },
    {
      "cell_type": "markdown",
      "source": [
        "Conclusión: Cada persona debería esperar en promedio 3.3 minutos para utilizar el cajero automático\n",
        "\n",
        "El nivel de utilización del cajero es cercado al 83% del tiempo"
      ],
      "metadata": {
        "id": "ud0JxMGjDRch"
      }
    },
    {
      "cell_type": "markdown",
      "source": [
        "###Caso de uso MM3 (MG)"
      ],
      "metadata": {
        "id": "FKdZ6pxl5xK8"
      }
    },
    {
      "cell_type": "markdown",
      "source": [
        "\n",
        "En teoría de colas, el MM3 es un modelo de colas que describe un sistema en el que los clientes llegan a un servidor de forma independiente y aleatoria, con una tasa de llegada no constante. El servidor puede atender a un solo cliente a la vez, y el tiempo de servicio de cada cliente no es exponencialmente distribuido.\n",
        "\n",
        "El modelo MM3 es un modelo más realista que el modelo MM1, que asume que la tasa de llegada es constante. El modelo MM3 también es más realista que el modelo M/M/1, que asume que el tiempo de servicio es constante.\n"
      ],
      "metadata": {
        "id": "3YGRN9kk70Q0"
      }
    },
    {
      "cell_type": "markdown",
      "source": [
        "Las medidas de desempeño del modelo MM3 se pueden calcular utilizando las siguientes fórmulas:\n",
        "\n",
        "Parámetro de utilización:\n",
        "\n",
        "utilización = tasa_llegada / tasa_servicio\n",
        "\n",
        "Tiempo medio de espera:\n",
        "\n",
        "tiempo_espera = 1 / (tasa_servicio - tasa_llegada)\n",
        "\n",
        "Longitud media de la cola:\n",
        "\n",
        "longitud_cola = tiempo_espera * tasa_llegada"
      ],
      "metadata": {
        "id": "HytyJ_E5-9EI"
      }
    },
    {
      "cell_type": "markdown",
      "source": [
        "El sistema MM3 es utilizado en una serie de aplicaciones, tales como:\n",
        "\n",
        "Sistemas de atención al cliente\n",
        "\n",
        "Sistemas de producción\n",
        "\n",
        "Sistemas de transporte\n",
        "\n",
        "En este caso presentaremos un caso práctico referido a una cafetería:"
      ],
      "metadata": {
        "id": "G8nngSzP_Si2"
      }
    },
    {
      "cell_type": "markdown",
      "source": [
        "####Considere una cafetería. Los clientes son las personas que llegan al café para consumir dicho producto. El servidor es el vendedor de cafés.\n",
        "\n",
        "###Se supone que la tasa de llegada de las personas es variable y depende del día de la semana y del momento del día. Por ejemplo, la tasa de llegada es mayor los fines de semana y en las horas pico. La tasa de servicio del camarero también es variable y depende de la cantidad de cafés que se tengan que servir.\n",
        "\n",
        "###Determinaremos entonces a través del sistema MM3 el tiempo de espera promedio del café y la tasa de utilización de la misma"
      ],
      "metadata": {
        "id": "NIOZfyf753ac"
      }
    },
    {
      "cell_type": "code",
      "source": [
        "# Importar bibliotecas necesarias\n",
        "import numpy as np\n",
        "import matplotlib.pyplot as plt\n",
        "\n",
        "# Parámetros del sistema MG para el café\n",
        "dias_semana = ['Lunes', 'Martes', 'Miércoles', 'Jueves', 'Viernes', 'Sábado', 'Domingo']\n",
        "tasa_llegada_diaria = {'Lunes': 20, 'Martes': 18, 'Miércoles': 22, 'Jueves': 20, 'Viernes': 25, 'Sábado': 30, 'Domingo': 25}\n",
        "# Definir tasas de llegada diaria para cada día de la semana\n",
        "\n",
        "# Simulación de tasas de servicio dependiendo de la cantidad de pedidos\n",
        "pedidos_atendidos = np.random.randint(15, 30, size=1000)  # Simulación de 1000 pedidos atendidos\n",
        "# Generar una cantidad aleatoria de pedidos atendidos para cada período simulado\n",
        "\n",
        "# Simulación del sistema MG para el café\n",
        "tiempo_llegada_mg = np.concatenate([np.random.exponential(1/tasa_llegada_diaria[dia], int(1000/7)) for dia in dias_semana])\n",
        "# Generar 1000 tiempos de llegada para el café según la tasa diaria específica de cada día\n",
        "\n",
        "tiempo_servicio_mg = np.concatenate([np.random.gamma(pedido, scale=0.5, size=int(1000/7)) for pedido in pedidos_atendidos])\n",
        "# Generar 1000 tiempos de servicio para el café utilizando la distribución gamma y la cantidad de pedidos atendidos\n",
        "# Se ajusta la escala de la distribución gamma para que los tiempos de servicio sean más rápidos\n",
        "\n",
        "\n",
        "\n",
        "min_length = min(len(tiempo_llegada_mg), len(tiempo_servicio_mg))\n",
        "# Calcular la longitud mínima entre los arreglos de tiempos de llegada y servicio\n",
        "# Esto asegura que ambos arreglos tengan la misma longitud para evitar problemas en el análisis posterior\n",
        "\n",
        "tiempo_llegada_mg = tiempo_llegada_mg[:min_length]\n",
        "tiempo_servicio_mg = tiempo_servicio_mg[:min_length]\n",
        "# Reducir la longitud de ambos arreglos al valor mínimo calculado\n",
        "# Esto garantiza que ambos arreglos tengan la misma longitud y puedan ser comparados adecuadamente\n",
        "\n",
        "\n",
        "tiempo_espera_mg = np.maximum(0, tiempo_servicio_mg - tiempo_llegada_mg)\n",
        "# Calcular el tiempo de espera para cada cliente como la diferencia entre tiempo de servicio y tiempo de llegada,\n",
        "#evitando tiempos de espera negativos\n",
        "\n",
        "# Medidas de desempeño para el sistema MG del café\n",
        "promedio_tiempo_espera_mg = np.mean(tiempo_espera_mg)\n",
        "# Calcular el tiempo promedio de espera\n",
        "utilizacion_mg = np.mean(pedidos_atendidos) / np.max(list(tasa_llegada_diaria.values()))\n",
        "# Calcular la utilización del sistema como la relación entre la cantidad promedio de pedidos atendidos y la máxima tasa de llegada\n",
        "\n",
        "\n",
        "# Imprimir resultados y conclusiones\n",
        "print(f\"Tiempo de espera promedio en el café: {promedio_tiempo_espera_mg} minutos\")\n",
        " # Representado en minutos debido a la realidad de atención de un café\n",
        "print(f\"Utilización en el café: {utilizacion_mg}\")\n",
        "#Tasa de utilización de un café\n"
      ],
      "metadata": {
        "colab": {
          "base_uri": "https://localhost:8080/"
        },
        "id": "DSZprrH3ENCl",
        "outputId": "7492927a-522d-4721-bbb9-29f298cc0419"
      },
      "execution_count": null,
      "outputs": [
        {
          "output_type": "stream",
          "name": "stdout",
          "text": [
            "Tiempo de espera promedio en el café: 9.539812888004608 minutos\n",
            "Utilización en el café: 0.7345333333333334\n"
          ]
        }
      ]
    },
    {
      "cell_type": "markdown",
      "source": [
        "El tiempo de espera promedio en este caso para degustar un café es de 9.6 minutos, la tasa de utilización es de un 73,45%"
      ],
      "metadata": {
        "id": "UuyBgDT7G91k"
      }
    },
    {
      "cell_type": "markdown",
      "source": [
        "##Evaluación de los Sistemas de Espera (MM1 y MG)"
      ],
      "metadata": {
        "id": "4ZYv2CTJI06i"
      }
    },
    {
      "cell_type": "markdown",
      "source": [
        "\n",
        "###Evaluación de los Sistemas de Espera (MM1 y MG)\n",
        "Sistema MM1 (Cajero Automático):\n",
        "Tiempos de Espera:\n",
        "\n",
        "El tiempo de espera promedio en el cajero automático es de aproximadamente 0.03 horas. (2 minutos por persona)\n",
        "Este valor se obtiene considerando la tasa de llegada de 10 personas por hora y la tasa de servicio de 12 personas por hora.\n",
        "Utilización:\n",
        "\n",
        "La utilización del cajero automático es de 83%.\n",
        "La utilización indica la eficiencia del sistema y es el cociente de la tasa de llegada y la tasa de servicio\n",
        "\n",
        "###Sistema MG (Café):\n",
        "####Tiempos de Espera:\n",
        "\n",
        "El tiempo de espera promedio en el café es de aproximadamente 9,6 minutos.\n",
        "\n",
        "####Utilización:\n",
        "\n",
        "La utilización del café es de 73.45%\n",
        "Esta medida indica la eficiencia del sistema y se calcula como la relación entre la cantidad promedio de pedidos atendidos y la máxima tasa de llegada.\n",
        "\n",
        "###Análisis Comparativo de Rendimiento:\n",
        "####Cajero Automático (MM1):\n",
        "\n",
        "Aunque el tiempo de espera es relativamente mayor, la utilización es alta, indicando una eficiente utilización de los recursos.\n",
        "\n",
        "###Café (MG):\n",
        "\n",
        "Se ha ajustado el sistema para reflejar un tiempo de espera realista en un entorno de servicio rápido.\n",
        "La utilización también es alta, indicando una eficiente atención a la demanda de pedidos."
      ],
      "metadata": {
        "id": "UCIzfRHxJDuD"
      }
    },
    {
      "cell_type": "markdown",
      "source": [
        "\n",
        "###Evaluación Numérica de Costos Comparativos:\n",
        "####Cajero Automático (MM1):\n",
        "\n",
        "Los costos pueden estar asociados principalmente con el tiempo de espera prolongado, ya que los clientes podrían preferir una mayor eficiencia.\n",
        "\n",
        "####Café (MG):\n",
        "\n",
        "Los costos pueden estar asociados con la rápida rotación de clientes y la necesidad de mantener un personal eficiente."
      ],
      "metadata": {
        "id": "GwWXfSheJMWb"
      }
    },
    {
      "cell_type": "markdown",
      "source": [
        "###Conclusión e Interpretación:\n",
        "Ambos sistemas tienen sus ventajas y desventajas dependiendo del contexto y las preferencias del cliente.\n",
        "El cajero automático (MM1) es adecuado bajo contextos donde la eficiencia en el servicio es prioritaria.\n",
        "El café (MG), con tiempos de espera en minutos, puede ser más atractivo en un entorno donde la experiencia del cliente es clave.\n",
        "Es crucial considerar las preferencias y expectativas de los usuarios al evaluar y diseñar sistemas de espera, ya que la percepción del servicio puede ser tan importante como la eficiencia pura.\n"
      ],
      "metadata": {
        "id": "Hqz3HZQUJS95"
      }
    }
  ]
}
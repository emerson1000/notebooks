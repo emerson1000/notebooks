{
  "nbformat": 4,
  "nbformat_minor": 0,
  "metadata": {
    "colab": {
      "provenance": [],
      "include_colab_link": true
    },
    "kernelspec": {
      "name": "python3",
      "display_name": "Python 3"
    },
    "language_info": {
      "name": "python"
    }
  },
  "cells": [
    {
      "cell_type": "markdown",
      "metadata": {
        "id": "view-in-github",
        "colab_type": "text"
      },
      "source": [
        "<a href=\"https://colab.research.google.com/github/emerson1000/notebooks/blob/main/M_M_1_M_M_C.ipynb\" target=\"_parent\"><img src=\"https://colab.research.google.com/assets/colab-badge.svg\" alt=\"Open In Colab\"/></a>"
      ]
    },
    {
      "cell_type": "markdown",
      "source": [
        "# **MM1**"
      ],
      "metadata": {
        "id": "IAYqn2rirQaX"
      }
    },
    {
      "cell_type": "markdown",
      "source": [
        "El sistema M/M/1 es un modelo comúnmente utilizado en la teoría de colas para analizar sistemas de servicio donde los clientes llegan a una tasa exponencial (\n",
        "λ) y son atendidos a una tasa exponencial (μ) por un solo servidor. El \"M\" en M/M/1 indica que tanto la llegada de clientes como el servicio se modelan como procesos de Poisson (distribución exponencial)."
      ],
      "metadata": {
        "id": "PfELXhhxvtRz"
      }
    },
    {
      "cell_type": "markdown",
      "source": [
        "**Ejemplo:**\n",
        "\n",
        "Supongamos que gestionamos una línea de ensamblaje en una fábrica de productos electrónicos. Los trabajadores ensamblan componentes en productos terminados, y queremos entender cómo se comporta la producción en esta línea de ensamblaje, especialmente en términos de la tasa de producción y el tiempo promedio de ensamblaje.\n",
        "\n",
        "Hemos simulado una línea de ensamblaje donde los productos llegan a una tasa exponencial de 0.2 productos por minuto (λ) y son ensamblados a una tasa exponencial de 0.25 productos por minuto (μ).\n",
        "\n",
        "\n",
        "Vamos a simular la producción en una línea de ensamblaje y calcular medidas de rendimiento, como la tasa de producción y el tiempo promedio de ensamblaje.\n",
        "\n",
        "Los parámetros:\n",
        "\n",
        "* Tasa de Llegada de Productos (λ): Representa la velocidad a la que los productos llegan a la línea de ensamblaje desde una fuente externa. En el contexto industrial, esto podría reflejar la tasa a la que los componentes llegan a la línea de ensamblaje desde la cadena de suministro.\n",
        "\n",
        "* Tasa de Servicio (μ): Indica la velocidad a la que los productos son ensamblados y completados en la línea de ensamblaje. Esto representa la eficiencia de la línea de producción y cuántos productos se pueden ensamblar por unidad de tiempo.\n",
        "\n",
        "* Tiempo de Simulación: La duración total de la simulación (480 minutos o 8 horas) refleja el período de tiempo durante el cual se quiere evaluar el rendimiento de la línea de ensamblaje.\n",
        "\n",
        "* Número de Productos Ensamblados: Es una medida de la producción total de productos electrónicos en la línea de ensamblaje durante el tiempo de simulación.\n",
        "\n",
        "* Tiempo Promedio de Ensamblaje: Representa el tiempo promedio que un producto pasa en el proceso de ensamblaje. Este tiempo es importante para evaluar la eficiencia y la calidad del proceso de producción.\n",
        "\n",
        "* Tasa de Producción: Indica la cantidad de productos ensamblados por unidad de tiempo y mide la eficiencia de la línea de producción.\n",
        "\n",
        "Estos parámetros se ajustaron al contexto industrial de la línea de ensamblaje de productos electrónicos para comprender y evaluar la eficiencia y el rendimiento de la producción en esta área específica."
      ],
      "metadata": {
        "id": "hif8lR6AgJwM"
      }
    },
    {
      "cell_type": "code",
      "source": [
        "!pip install simpy"
      ],
      "metadata": {
        "colab": {
          "base_uri": "https://localhost:8080/"
        },
        "id": "oNnXnPkYgUIK",
        "outputId": "e03e9408-ae68-44dd-9b9e-2e35437d0e7e"
      },
      "execution_count": null,
      "outputs": [
        {
          "output_type": "stream",
          "name": "stdout",
          "text": [
            "Requirement already satisfied: simpy in /usr/local/lib/python3.10/dist-packages (4.0.2)\n"
          ]
        }
      ]
    },
    {
      "cell_type": "code",
      "source": [
        "import simpy\n",
        "import random\n",
        "\n",
        "# Configuración de la simulación\n",
        "env = simpy.Environment()\n",
        "tiempo_total_simulacion = 480  # Duración total de la simulación en minutos (8 horas)\n",
        "productos_ensamblados = 0\n",
        "tiempo_total_ensamblaje = 0\n",
        "\n",
        "# Parámetros del sistema\n",
        "tasa_llegada = 0.2  # Tasa de llegada de productos por minuto (clientes/minuto)\n",
        "tasa_servicio = 0.25  # Tasa de servicio por minuto (productos/minuto)\n",
        "\n",
        "# Función para el ensamblaje de productos\n",
        "def ensamblar_producto(env):\n",
        "    global productos_ensamblados, tiempo_total_ensamblaje\n",
        "    while True:\n",
        "        yield env.timeout(random.expovariate(tasa_llegada))  # Tiempo hasta la próxima llegada\n",
        "        productos_ensamblados += 1\n",
        "        tiempo_servicio = random.expovariate(tasa_servicio)  # Tiempo de servicio\n",
        "        tiempo_total_ensamblaje += tiempo_servicio\n",
        "        yield env.timeout(tiempo_servicio)\n",
        "\n",
        "# Inicialización del proceso de ensamblaje\n",
        "env.process(ensamblar_producto(env))\n",
        "\n",
        "# Ejecución de la simulación\n",
        "env.run(until=tiempo_total_simulacion)\n",
        "\n",
        "# Cálculo de medidas de rendimiento\n",
        "tasa_produccion = productos_ensamblados / tiempo_total_simulacion  # Tasa de producción (productos/minuto)\n",
        "tiempo_promedio_ensamblaje = tiempo_total_ensamblaje / productos_ensamblados  # Tiempo promedio de ensamblaje\n",
        "\n",
        "# Resultados\n",
        "print(f'Tasa de producción: {tasa_produccion:.2f} productos/minuto')\n",
        "print(f'Tiempo promedio de ensamblaje: {tiempo_promedio_ensamblaje:.2f} minutos/producto')\n"
      ],
      "metadata": {
        "colab": {
          "base_uri": "https://localhost:8080/"
        },
        "id": "TlBMX1eXgQrS",
        "outputId": "503076d4-93a2-4c4e-d7fc-5b852fbee4b5"
      },
      "execution_count": null,
      "outputs": [
        {
          "output_type": "stream",
          "name": "stdout",
          "text": [
            "Tasa de producción: 0.11 productos/minuto\n",
            "Tiempo promedio de ensamblaje: 3.99 minutos/producto\n"
          ]
        }
      ]
    },
    {
      "cell_type": "markdown",
      "source": [
        "**Interpretación:**\n",
        "\n",
        "* Tasa de producción: 0.12 productos/minuto\n",
        "\n",
        "Esta medida indica la cantidad de productos ensamblados por unidad de tiempo, en este caso, por minuto.\n",
        "En este ejemplo, la tasa de producción es de 0.12 productos/minuto, lo que significa que, en promedio, se ensamblan 0.12 productos cada minuto.\n",
        "Esta tasa es un indicador importante de la capacidad de producción del sistema. Una tasa de producción más alta significa que el sistema puede ensamblar más productos en un período de tiempo dado.\n",
        "\n",
        "* Tiempo promedio de ensamblaje: 3.88 minutos/producto\n",
        "\n",
        "Esta medida indica cuánto tiempo, en promedio, pasa un producto en el sistema desde que llega hasta que se ensambla completamente.\n",
        "En este ejemplo, el tiempo promedio de ensamblaje es de 3.88 minutos por producto, lo que significa que, en promedio, un producto pasa aproximadamente 3.88 minutos en el proceso de ensamblaje.\n",
        "Este valor es relevante para comprender cuánto tiempo se tarda en ensamblar cada producto individualmente. Un tiempo de ensamblaje más corto generalmente indica una mayor eficiencia en el proceso de producción.\n",
        "\n",
        "\n",
        "En resumen, una tasa de producción de 0.1 productos/minuto sugiere que el sistema está ensamblando productos a un ritmo de 0.1 productos por minuto, y un tiempo promedio de ensamblaje de 3.68 minutos por producto indica cuánto tiempo, en promedio, se necesita para ensamblar un solo producto. Estos valores son críticos para evaluar la eficiencia y el rendimiento de la línea de ensamblaje o el proceso industrial."
      ],
      "metadata": {
        "id": "biDqvjN0k6z0"
      }
    },
    {
      "cell_type": "markdown",
      "source": [
        "# **MMC**"
      ],
      "metadata": {
        "id": "pVLpBUifsiiv"
      }
    },
    {
      "cell_type": "code",
      "source": [
        "import simpy\n",
        "import random\n",
        "\n",
        "# Configuración de la simulación\n",
        "env = simpy.Environment()\n",
        "tiempo_total_simulacion = 480  # Duración total de la simulación en minutos (8 horas)\n",
        "productos_ensamblados = 0\n",
        "tiempo_total_ensamblaje = 0\n",
        "C = 4  # Capacidad de la estación de ensamblaje\n",
        "\n",
        "# Parámetros del sistema\n",
        "tasa_llegada = 0.2  # Tasa de llegada de productos por minuto (clientes/minuto)\n",
        "tasa_servicio = 0.25  # Tasa de servicio por minuto (productos/minuto)\n",
        "\n",
        "# Función para el ensamblaje de productos\n",
        "def ensamblar_producto(env, canal):\n",
        "    global productos_ensamblados, tiempo_total_ensamblaje\n",
        "    while True:\n",
        "        yield env.timeout(random.expovariate(tasa_llegada))  # Tiempo hasta la próxima llegada\n",
        "        productos_ensamblados += 1\n",
        "        tiempo_servicio = random.expovariate(tasa_servicio)  # Tiempo de servicio\n",
        "        tiempo_total_ensamblaje += tiempo_servicio\n",
        "        yield env.timeout(tiempo_servicio)\n",
        "\n",
        "# Inicialización de los procesos de ensamblaje\n",
        "for canal in range(C):\n",
        "    env.process(ensamblar_producto(env, canal))\n",
        "\n",
        "# Ejecución de la simulación\n",
        "env.run(until=tiempo_total_simulacion)\n",
        "\n",
        "# Cálculo de medidas de rendimiento\n",
        "tasa_produccion = productos_ensamblados / tiempo_total_simulacion  # Tasa de producción (productos/minuto)\n",
        "tiempo_promedio_ensamblaje = tiempo_total_ensamblaje / productos_ensamblados  # Tiempo promedio de ensamblaje\n",
        "\n",
        "# Resultados\n",
        "print(f'Tasa de producción: {tasa_produccion:.2f} productos/minuto')\n",
        "print(f'Tiempo promedio de ensamblaje: {tiempo_promedio_ensamblaje:.2f} minutos/producto')\n"
      ],
      "metadata": {
        "colab": {
          "base_uri": "https://localhost:8080/"
        },
        "id": "dRJ6ieE98bKN",
        "outputId": "90d15e7f-361a-4066-8353-7aefec030ecf"
      },
      "execution_count": null,
      "outputs": [
        {
          "output_type": "stream",
          "name": "stdout",
          "text": [
            "Tasa de producción: 0.45 productos/minuto\n",
            "Tiempo promedio de ensamblaje: 4.10 minutos/producto\n"
          ]
        }
      ]
    },
    {
      "cell_type": "markdown",
      "source": [
        "**Interpretación de diferencias entre MM1 y MMC:**\n",
        "\n",
        "\n",
        "* Sistema MM1 (Monocanal) :\n",
        "\n",
        "Tasa de llegada (λ) = 0.2\n",
        "\n",
        "Tasa de servicio (μ) = 0.25\n",
        "\n",
        "Capacidad (C) = 1\n",
        "\n",
        "Tasa de producción: 0.11 productos/minuto\n",
        "\n",
        "Tiempo promedio de ensamblaje: 3.99 minutos/producto\n",
        "\n",
        "\n",
        "* Sistema MMC con C=4:\n",
        "\n",
        "Tasa de llegada (λ) = 0.2\n",
        "\n",
        "Tasa de servicio (μ) = 0.25\n",
        "\n",
        "Capacidad (C) = 4\n",
        "\n",
        "\n",
        "Tasa de producción: 0.45 productos/minuto\n",
        "\n",
        "Tiempo promedio de ensamblaje: 4.10 minutos/producto\n",
        "\n",
        "**Métricas**\n",
        "\n",
        "* Tasa de producción:\n",
        "\n",
        " En el sistema MM1, la tasa de producción es baja (0.11 productos/minuto) debido a la baja tasa de servicio en comparación con la tasa de llegada. Esto significa que los productos llegan más rápido de lo que pueden ser ensamblados, lo que resulta en una cola de espera.\n",
        "\n",
        "En el sistema MMC con C=4, la tasa de producción es más alta (0.45 productos/minuto) porque hay más canales de servicio disponibles para ensamblar productos.\n",
        "\n",
        "* Tiempo promedio de ensamblaje:\n",
        "\n",
        "El tiempo promedio de ensamblaje por producto es un poco más alto en MM4 (4.10 minutos/producto) porque, a pesar de una tasa de producción más alta, los productos pueden experimentar un tiempo de espera más largo antes de ser ensamblados. Sin embargo, una vez que comienza el ensamblaje, es más eficiente debido a la disponibilidad de múltiples canales de servicio.\n",
        "\n",
        "En resumen, en el sistema MMC con C=4, los productos pueden experimentar menos tiempo de espera antes de ser atendidos gracias a la mayor capacidad de servicio, pero el tiempo promedio de ensamblaje por producto puede ser ligeramente mayor debido a la posible competencia por los canales de servicio disponibles. La elección entre MM1 y MMC con C=4 dependerá de los objetivos y requisitos específicos del sistema y si se valora más la tasa de producción o el tiempo promedio de ensamblaje.\n",
        "\n",
        "\n",
        "\n",
        "\n",
        "\n"
      ],
      "metadata": {
        "id": "8svTe7wzJDyT"
      }
    },
    {
      "cell_type": "markdown",
      "source": [
        "**Ejemplo**\n",
        "\n",
        "Podemos considerar una situación en la que una fábrica de productos electrónicos tiene una estación de trabajo de prueba de calidad para evaluar la funcionalidad de los productos antes de ser empaquetados y enviados al mercado. La estación de prueba de calidad puede manejar un número limitado de productos a la vez.\n",
        "\n",
        "Problema: La fábrica desea evaluar la eficiencia de su estación de prueba de calidad y determinar la tasa de producción y el tiempo promedio que un producto pasa en el sistema de prueba de calidad.\n",
        "\n",
        "Parámetros:\n",
        "\n",
        "* Tasa de llegada de productos (λ): 20 productos por hora.\n",
        "* Tasa de servicio (μ): 10 productos por hora.\n",
        "* Capacidad de la estación de prueba de calidad (C): 2 productos a la vez."
      ],
      "metadata": {
        "id": "ARfPxv8KuhEY"
      }
    },
    {
      "cell_type": "code",
      "source": [
        "import numpy as np\n",
        "\n",
        "# Parámetros del sistema\n",
        "lambda_ = 20  # Tasa de llegada de productos (productos por hora)\n",
        "mu = 10       # Tasa de servicio (productos por hora)\n",
        "C = 2         # Capacidad de la estación de prueba de calidad (número de canales)\n",
        "\n",
        "# Calcular la tasa efectiva de servicio\n",
        "rho = lambda_ / (C * mu)\n",
        "\n",
        "if rho == 1:\n",
        "    Lq = C / 2\n",
        "else:\n",
        "    Lq = (rho ** C) / (np.math.factorial(C) * (1 - rho)) * (rho / (1 - rho))\n",
        "\n",
        "# Calcular la tasa de producción (productos por hora)\n",
        "L = lambda_ * Lq\n",
        "\n",
        "# Calcular el tiempo promedio que un producto pasa en el sistema (en horas)\n",
        "if rho == 1:\n",
        "    Wq = 1 / (2 * mu)\n",
        "else:\n",
        "    Wq = Lq / lambda_\n",
        "\n",
        "W = Wq + (1 / mu)\n",
        "\n",
        "# Mostrar los resultados\n",
        "print(f\"Tasa de producción: {L:.2f} productos por hora\")\n",
        "print(f\"Tiempo promedio en el sistema: {W:.2f} horas por producto\")"
      ],
      "metadata": {
        "colab": {
          "base_uri": "https://localhost:8080/"
        },
        "id": "G8muczZkgAJZ",
        "outputId": "be66bd5a-5ab8-4fb5-b74c-4ef16c470c21"
      },
      "execution_count": null,
      "outputs": [
        {
          "output_type": "stream",
          "name": "stdout",
          "text": [
            "Tasa de producción: 20.00 productos por hora\n",
            "Tiempo promedio en el sistema: 0.15 horas por producto\n"
          ]
        }
      ]
    },
    {
      "cell_type": "markdown",
      "source": [
        "# **Sistema de serie**"
      ],
      "metadata": {
        "id": "3Lw0D90UsXlz"
      }
    },
    {
      "cell_type": "markdown",
      "source": [
        "**Ejemplo:**\n",
        "\n",
        "Consideremos una empresa de fabricación que tiene una línea de producción de automóviles. La línea de producción está formada por tres estaciones de trabajo:\n",
        "\n",
        "* Estación 1: Pintura\n",
        "* Estación 2: Montaje\n",
        "* Estación 3: Prueba\n",
        "\n",
        "Los automóviles llegan a la línea de producción a una tasa media de 10 automóviles por hora. Cada estación de trabajo tarda una hora en completar su tarea.\n",
        "\n",
        "Modelo de colas\n",
        "\n",
        "Este sistema puede ser modelado como un sistema de colas M/M/C, donde C es el número de estaciones de trabajo en la línea de producción. En este caso, C = 3.\n",
        "\n",
        "Análisis\n",
        "\n",
        "Podemos utilizar el algoritmo de Python para calcular las medidas de rendimiento del sistema."
      ],
      "metadata": {
        "id": "TPiGU4kVsajm"
      }
    },
    {
      "cell_type": "code",
      "source": [
        "!pip install simpy"
      ],
      "metadata": {
        "colab": {
          "base_uri": "https://localhost:8080/"
        },
        "id": "MU9jQjTltYMU",
        "outputId": "b0c24740-feee-4804-c0b4-dbf7d48c8889"
      },
      "execution_count": null,
      "outputs": [
        {
          "output_type": "stream",
          "name": "stdout",
          "text": [
            "Requirement already satisfied: simpy in /usr/local/lib/python3.10/dist-packages (4.0.2)\n"
          ]
        }
      ]
    },
    {
      "cell_type": "code",
      "source": [
        "import simpy\n",
        "import random\n",
        "\n",
        "# Parámetros del sistema\n",
        "tasa_llegada = 10 / 60  # Tasa de llegada de automóviles (automóviles por minuto)\n",
        "tiempo_procesamiento = 60  # Tiempo de procesamiento en cada estación (en minutos)\n",
        "numero_estaciones = 3  # Número de estaciones de trabajo en la línea de producción\n",
        "\n",
        "# Configuración de la simulación\n",
        "env = simpy.Environment()\n",
        "cola = simpy.Store(env)  # Corrección: Usar simpy.Store en lugar de simpy.Queue\n",
        "tiempo_total_produccion = 0\n",
        "tiempo_total_sistema = 0\n",
        "num_automoviles_producidos = 0\n",
        "\n",
        "# Función para el proceso de ensamblaje en cada estación de trabajo\n",
        "def estacion_trabajo(env, nombre):\n",
        "    while True:\n",
        "        llegada_automovil = random.expovariate(tasa_llegada)\n",
        "        yield env.timeout(llegada_automovil)\n",
        "\n",
        "        llegada_cola = env.now\n",
        "        with cola.put(1) as req:  # Usar cola.put(1) para agregar un cliente a la cola\n",
        "            yield req\n",
        "            tiempo_proceso = tiempo_procesamiento\n",
        "            yield env.timeout(tiempo_proceso)\n",
        "\n",
        "        tiempo_sistema = env.now - llegada_cola\n",
        "        global tiempo_total_produccion, tiempo_total_sistema, num_automoviles_producidos\n",
        "        tiempo_total_produccion += tiempo_proceso\n",
        "        tiempo_total_sistema += tiempo_sistema\n",
        "        num_automoviles_producidos += 1\n",
        "\n",
        "# Inicialización de estaciones de trabajo\n",
        "for i in range(numero_estaciones):\n",
        "    env.process(estacion_trabajo(env, f'Estación {i + 1}'))\n",
        "\n",
        "# Ejecución de la simulación\n",
        "env.run(until=480)  # Duración de la simulación en minutos (8 horas)\n",
        "\n",
        "# Cálculo de medidas de rendimiento\n",
        "tasa_produccion = num_automoviles_producidos / 480  # Tasa de producción (automóviles por minuto)\n",
        "tiempo_promedio_sistema = tiempo_total_sistema / num_automoviles_producidos  # Tiempo promedio en el sistema (minutos)\n",
        "\n",
        "# Resultados\n",
        "print(f'Tasa de producción: {tasa_produccion:.2f} automóviles por minuto')\n",
        "print(f'Tiempo promedio en el sistema: {tiempo_promedio_sistema:.2f} minutos por automóvil')"
      ],
      "metadata": {
        "colab": {
          "base_uri": "https://localhost:8080/"
        },
        "id": "IsUitZnbtWKw",
        "outputId": "db7d47c7-fdcc-43c0-9bd6-bd554764c8c5"
      },
      "execution_count": null,
      "outputs": [
        {
          "output_type": "stream",
          "name": "stdout",
          "text": [
            "Tasa de producción: 0.04 automóviles por minuto\n",
            "Tiempo promedio en el sistema: 60.00 minutos por automóvil\n"
          ]
        }
      ]
    },
    {
      "cell_type": "markdown",
      "source": [
        "**Interpretación:**\n",
        "\n",
        "* Tasa de producción: 0.04 automóviles por minuto\n",
        "\n",
        "Esta medida indica que en promedio se ensamblan 0.04 automóviles por minuto en la línea de producción de automóviles.\n",
        "Una tasa de producción de 0.04 automóviles por minuto es relativamente baja y sugiere que la línea de producción está ensamblando automóviles a un ritmo lento.\n",
        "\n",
        "* Tiempo promedio en el sistema: 60.00 minutos por automóvil\n",
        "\n",
        "Esta medida representa el tiempo promedio que un automóvil pasa en todo el sistema de producción, desde su llegada hasta su ensamblaje completo.\n",
        "Un tiempo promedio en el sistema de 60.00 minutos por automóvil indica que, en promedio, un automóvil pasa una hora completa en el proceso de producción antes de estar listo.\n",
        "\n",
        "Un tiempo tan largo en el sistema sugiere que hay un cuello de botella o una ineficiencia en la línea de producción que causa largos tiempos de espera para los automóviles.\n",
        "\n",
        "La baja tasa de producción y el largo tiempo promedio en el sistema sugieren que la línea de producción de automóviles está experimentando dificultades en términos de eficiencia y capacidad. Esto puede deberse a diversas razones, como problemas de flujo de trabajo, falta de recursos, o tiempos de procesamiento excesivamente largos en una o más estaciones de trabajo.\n",
        "\n",
        "Para mejorar la eficiencia y aumentar la producción, podría ser necesario identificar y abordar los cuellos de botella en la línea de producción, optimizar los tiempos de procesamiento en las estaciones de trabajo o considerar la adición de recursos adicionales.\n",
        "\n",
        "En general, estos resultados indican que el proceso de producción actual no está funcionando de manera eficiente y podría requerir ajustes significativos para alcanzar una mayor producción y una reducción en los tiempos de ensamblaje."
      ],
      "metadata": {
        "id": "Zi94poTuuQ7I"
      }
    },
    {
      "cell_type": "markdown",
      "source": [
        "# **Sistema de espera Markovianos con fuga de clientes**"
      ],
      "metadata": {
        "id": "B-sqNhl5x9jx"
      }
    },
    {
      "cell_type": "markdown",
      "source": [
        "**Ejemplo**\n",
        "\n",
        "Supongamos que estamos gestionando un centro de llamadas y queremos modelar el comportamiento de los clientes que llaman. En este ejemplo, simularemos un sistema de espera Markoviano con fuga de clientes y calcularemos la tasa de abandono esperada."
      ],
      "metadata": {
        "id": "ipjk5l8QySSn"
      }
    },
    {
      "cell_type": "code",
      "source": [
        "import simpy\n",
        "import random\n",
        "\n",
        "# Parámetros del sistema\n",
        "tasa_llegada = 15  # Clientes por hora\n",
        "tasa_servicio = 20  # Clientes por hora\n",
        "tasa_abandono = 3  # Clientes por hora\n",
        "capacidad_sistema = 100  # Capacidad del sistema\n",
        "\n",
        "# Configuración de la simulación\n",
        "env = simpy.Environment()\n",
        "cola = simpy.Store(env)\n",
        "tiempo_total_abandono = 0\n",
        "num_clientes_atendidos = 0\n",
        "\n",
        "# Función para el proceso de atención al cliente con fuga\n",
        "def servicio_cliente(env):\n",
        "    global tiempo_total_abandono, num_clientes_atendidos\n",
        "    while True:\n",
        "        llegada_cliente = random.expovariate(tasa_llegada)\n",
        "        yield env.timeout(llegada_cliente)\n",
        "\n",
        "        tiempo_servicio = random.expovariate(tasa_servicio)\n",
        "        if len(cola.items) < capacidad_sistema:\n",
        "            with cola.put(1) as req:\n",
        "                yield req\n",
        "                yield env.timeout(tiempo_servicio)\n",
        "                tiempo_total_abandono += tiempo_servicio\n",
        "                num_clientes_atendidos += 1\n",
        "        else:\n",
        "            tiempo_total_abandono += tiempo_servicio\n",
        "\n",
        "# Inicialización del sistema\n",
        "env.process(servicio_cliente(env))\n",
        "\n",
        "# Ejecución de la simulación\n",
        "env.run(until=480)  # Duración de la simulación en minutos (8 horas)\n",
        "\n",
        "# Cálculo de la tasa de abandono esperada\n",
        "tasa_abandono_esperada = (tasa_abandono / (tasa_llegada + tasa_abandono)) * 100\n",
        "\n",
        "# Resultados\n",
        "print(f'Número de clientes atendidos: {num_clientes_atendidos:.2f} clientes')\n",
        "print(f'Tiempo total servicio: {tiempo_total_abandono:.2f} min')\n",
        "print(f'Tasa de abandono esperada: {tasa_abandono_esperada:.2f}%')\n",
        "\n"
      ],
      "metadata": {
        "colab": {
          "base_uri": "https://localhost:8080/"
        },
        "id": "EFsVmRqU0FAo",
        "outputId": "436ed609-a353-44b8-ff4c-195f4ed72aa2"
      },
      "execution_count": null,
      "outputs": [
        {
          "output_type": "stream",
          "name": "stdout",
          "text": [
            "Número de clientes atendidos: 100.00 clientes\n",
            "Tiempo total servicio: 358.17 min\n",
            "Tasa de abandono esperada: 16.67%\n"
          ]
        }
      ]
    },
    {
      "cell_type": "markdown",
      "source": [
        "**Interpretacion**\n",
        "\n",
        "Este código ajusta la simulación para simular la fuga de clientes cuando la cola alcanza su capacidad máxima sin usar prioridades. Debería funcionar sin errores y proporcionar resultados precisos para la tasa de abandono esperada.\n",
        "\n",
        "La salida del algoritmo indica que la \"Tasa de abandono esperada\" es del 16.67%. Esto significa que, en promedio, el 16.67% de los clientes que llegan al sistema de atención al cliente optan por abandonar la cola en lugar de esperar a ser atendidos. Esta tasa de abandono refleja la probabilidad de que un cliente renuncie debido a la espera o cualquier otro motivo antes de ser atendido.\n",
        "\n",
        "En el contexto industrial o de atención al cliente, si una tasa de abandono del es alta, podría ser una señal de que el sistema necesita mejoras en términos de capacidad de servicio o eficiencia para reducir la frustración de los clientes y retenerlos en la cola.\n",
        "\n",
        "La interpretación general es que una tasa de abandono alta puede ser indeseable y requerir acciones correctivas, como la adición de más servidores o la optimización de los tiempos de servicio, para reducir la tasa de abandono y mejorar la satisfacción del cliente."
      ],
      "metadata": {
        "id": "Q1r26KTa0ooc"
      }
    },
    {
      "cell_type": "markdown",
      "source": [
        "# **Sistema de esperas con capacidad limitada**"
      ],
      "metadata": {
        "id": "LxPHvgzO1JAS"
      }
    },
    {
      "cell_type": "markdown",
      "source": [
        "**Ejemplo**\n",
        "\n",
        "Supongamos que estamos gestionando una línea de producción en una fábrica de componentes electrónicos, y deseamos controlar la cantidad máxima de productos en proceso en cada estación de trabajo. En este ejemplo, simularemos una línea de producción con capacidad limitada en cada estación y calcularemos la eficiencia del sistema."
      ],
      "metadata": {
        "id": "An8QKHJI1N2m"
      }
    },
    {
      "cell_type": "code",
      "source": [
        "import simpy\n",
        "import random\n",
        "\n",
        "# Parámetros del sistema\n",
        "capacidad_estacion = 5  # Capacidad máxima de cada estación\n",
        "tasa_llegada = 10  # Productos por hora\n",
        "tasa_servicio = 12  # Productos por hora\n",
        "\n",
        "# Configuración de la simulación\n",
        "env = simpy.Environment()\n",
        "estaciones = [simpy.Resource(env, capacity=capacidad_estacion) for _ in range(3)]\n",
        "tiempo_total_produccion = 0\n",
        "num_productos_producidos = 0\n",
        "\n",
        "# Función para el proceso de producción en cada estación\n",
        "def produccion_componente(env, estacion_idx):\n",
        "    global tiempo_total_produccion, num_productos_producidos\n",
        "    while True:\n",
        "        llegada_producto = random.expovariate(tasa_llegada)\n",
        "        yield env.timeout(llegada_producto)\n",
        "\n",
        "        with estaciones[estacion_idx].request() as req:\n",
        "            yield req\n",
        "            tiempo_servicio = random.expovariate(tasa_servicio)\n",
        "            yield env.timeout(tiempo_servicio)\n",
        "            tiempo_total_produccion += tiempo_servicio\n",
        "            num_productos_producidos += 1\n",
        "\n",
        "# Inicialización de la producción en cada estación\n",
        "for i in range(3):\n",
        "    env.process(produccion_componente(env, i))\n",
        "\n",
        "# Ejecución de la simulación\n",
        "env.run(until=480)  # Duración de la simulación en minutos (8 horas)\n",
        "\n",
        "# Cálculo de la eficiencia del sistema\n",
        "tiempo_total_simulacion = env.now\n",
        "eficiencia_sistema = (num_productos_producidos / tiempo_total_simulacion) * 60  # Productos por hora\n",
        "\n",
        "# Resultados\n",
        "print(f'Eficiencia del sistema: {eficiencia_sistema:.2f} productos por hora')\n"
      ],
      "metadata": {
        "colab": {
          "base_uri": "https://localhost:8080/"
        },
        "id": "vPQdLH-D1VuA",
        "outputId": "98049156-3661-4180-e67a-f8e3994e7bd6"
      },
      "execution_count": null,
      "outputs": [
        {
          "output_type": "stream",
          "name": "stdout",
          "text": [
            "Eficiencia del sistema: 986.25 productos por hora\n"
          ]
        }
      ]
    },
    {
      "cell_type": "markdown",
      "source": [
        "**Interpretación:**\n",
        "\n",
        "Este ejemplo simula una línea de producción en la que cada estación de trabajo tiene una capacidad máxima de 5 productos en proceso. Calcula la eficiencia del sistema en términos de productos producidos por hora. El control de la capacidad en cada estación asegura que el sistema funcione de manera eficiente y evita la congestión.\n",
        "\n",
        "La salida del algoritmo indica que la \"Eficiencia del sistema\" es de 975.75 productos por hora. Esta métrica representa la cantidad promedio de productos que se producen en una hora en la línea de producción. Para interpretar este resultado:\n",
        "\n",
        "Una eficiencia del sistema de 976 productos por hora indica un sistema de producción altamente eficiente y capaz de mantener un flujo constante de producción dentro de las limitaciones de capacidad establecidas."
      ],
      "metadata": {
        "id": "2bI-9aMP2D5V"
      }
    },
    {
      "cell_type": "markdown",
      "source": [
        "# **MG1**"
      ],
      "metadata": {
        "id": "bS8nPfpt2TJy"
      }
    },
    {
      "cell_type": "markdown",
      "source": [
        "* Fábrica de Impresión Digital: Esta fábrica se dedica a la impresión de materiales gráficos y publicitarios.\n",
        "\n",
        "* Máquina de Impresión: Hay una máquina de impresión digital que se utiliza para imprimir los trabajos.\n",
        "\n",
        "* Tiempo de Impresión: Cada trabajo de impresión necesita un tiempo diferente para completarse. No todos los trabajos son igualmente complejos ni requieren el mismo tiempo de impresión.\n",
        "\n",
        "* Llegada de Trabajos: Los trabajos de impresión llegan de manera aleatoria a la máquina de impresión."
      ],
      "metadata": {
        "id": "GSU1IA3_6e8R"
      }
    },
    {
      "cell_type": "code",
      "source": [
        "import simpy\n",
        "import random\n",
        "\n",
        "# Parámetros del sistema\n",
        "tiempo_llegada = 10  # Tiempo promedio entre llegadas de trabajos (minutos)\n",
        "tiempo_servicio_mean = 15  # Tiempo promedio de impresión (minutos)\n",
        "tiempo_servicio_std = 5  # Desviación estándar del tiempo de impresión (minutos)\n",
        "\n",
        "# Configuración de la simulación\n",
        "env = simpy.Environment()\n",
        "maquina_impresion = simpy.Resource(env, capacity=1)\n",
        "tiempo_total_impresion = 0\n",
        "num_trabajos_impresos = 0\n",
        "\n",
        "# Función para el proceso de impresión\n",
        "def proceso_impresion(env):\n",
        "    global tiempo_total_impresion, num_trabajos_impresos\n",
        "    while True:\n",
        "        llegada_trabajo = random.expovariate(1.0 / tiempo_llegada)\n",
        "        yield env.timeout(llegada_trabajo)\n",
        "\n",
        "        with maquina_impresion.request() as req:\n",
        "            yield req\n",
        "            tiempo_servicio = random.normalvariate(tiempo_servicio_mean, tiempo_servicio_std)\n",
        "            yield env.timeout(tiempo_servicio)\n",
        "            tiempo_total_impresion += tiempo_servicio\n",
        "            num_trabajos_impresos += 1\n",
        "\n",
        "# Inicialización del proceso de impresión\n",
        "env.process(proceso_impresion(env))\n",
        "\n",
        "# Ejecución de la simulación\n",
        "env.run(until=480)  # Duración de la simulación en minutos (8 horas)\n",
        "\n",
        "# Cálculo de la eficiencia de la máquina de impresión\n",
        "tiempo_total_simulacion = env.now\n",
        "eficiencia_maquina = (num_trabajos_impresos / tiempo_total_simulacion) * 60  # Trabajos impresos por hora\n",
        "\n",
        "# Resultados\n",
        "print(f'Eficiencia de la máquina de impresión: {eficiencia_maquina:.2f} trabajos por hora')\n"
      ],
      "metadata": {
        "colab": {
          "base_uri": "https://localhost:8080/"
        },
        "id": "BZ28f1NT6moX",
        "outputId": "91a2f889-544c-4ee7-96e6-daee53ec0583"
      },
      "execution_count": null,
      "outputs": [
        {
          "output_type": "stream",
          "name": "stdout",
          "text": [
            "Eficiencia de la máquina de impresión: 2.38 trabajos por hora\n"
          ]
        }
      ]
    },
    {
      "cell_type": "markdown",
      "source": [
        "**Interpretación:**\n",
        "\n",
        "La salida del código proporcionará la eficiencia de la máquina de impresión, que representa la cantidad promedio de trabajos impresos por hora en esta máquina. Esta eficiencia se calcula teniendo en cuenta las llegadas aleatorias de trabajos y los tiempos de impresión variables.\n",
        "\n",
        "Este ejemplo demuestra cómo utilizar el modelo M/G/1 para simular el proceso de impresión en una fábrica donde los tiempos de impresión no siguen una distribución exponencial típica, sino una distribución general. La eficiencia calculada proporciona información sobre el rendimiento de esta máquina de impresión en condiciones realistas de producción.\n",
        "\n",
        "La salida del algoritmo indica que la \"Eficiencia de la máquina de impresión\" es de 2.38 trabajos por hora. La eficiencia se calcula teniendo en cuenta las llegadas aleatorias de trabajos y los tiempos de impresión variables. Si la eficiencia es alta, significa que la máquina está operando a una velocidad considerable y está imprimiendo trabajos con eficiencia.\n",
        "\n",
        "Por otro lado, una eficiencia más baja podría indicar tiempos de inactividad en la máquina o una menor velocidad de impresión en comparación con la demanda de trabajo.\n",
        "\n",
        "En resumen, una eficiencia de la máquina de impresión de 2.38 trabajos por hora sugiere que la máquina está funcionando a una velocidad razonable y puede procesar un número significativo de trabajos en una hora. Esta métrica es útil para evaluar el rendimiento de la máquina en un contexto de producción de impresión digital."
      ],
      "metadata": {
        "id": "iNpwkeGn692b"
      }
    },
    {
      "cell_type": "markdown",
      "source": [
        "# **Fórmula de Pollaczek-Khintchine**"
      ],
      "metadata": {
        "id": "OP39vbCHVWWT"
      }
    },
    {
      "cell_type": "markdown",
      "source": [
        "Para ejemplificar su uso en un entorno industrial, imaginemos una fábrica que produce productos electrónicos. Los productos se ensamblan en una línea de producción, y los trabajadores ensamblan los productos individualmente. La tasa de llegada de productos para ensamblar (λ) es de 10 productos por hora, y la tasa de ensamblaje (μ) es de 12 productos por hora. Sin embargo, los tiempos de ensamblaje pueden variar y siguen una distribución normal con una desviación estándar (σ) de 0.5 horas.\n",
        "\n",
        "Para calcular el tiempo de espera promedio (W) en esta línea de producción utilizando la fórmula de Pollaczek-Khintchine en Python, podemos hacer lo siguiente:"
      ],
      "metadata": {
        "id": "MqHdw2mxVXgc"
      }
    },
    {
      "cell_type": "code",
      "source": [
        "def calcular_tiempo_espera(lambda_val, mu_val, sigma_val):\n",
        "    # Calcula el tiempo de espera promedio\n",
        "    W = 1 / (mu_val - lambda_val) + (lambda_val / (mu_val * (mu_val - lambda_val))) * (sigma_val ** 2)\n",
        "    return W\n",
        "\n",
        "# Valores de entrada\n",
        "lambda_val = 10  # Tasa de llegada de productos por hora\n",
        "mu_val = 12     # Tasa de ensamblaje de productos por hora\n",
        "sigma_val = 0.5 # Desviación estándar de los tiempos de ensamblaje en horas\n",
        "\n",
        "# Calcula el tiempo de espera promedio\n",
        "tiempo_espera = calcular_tiempo_espera(lambda_val, mu_val, sigma_val)\n",
        "\n",
        "# Imprime el resultado\n",
        "print(f\"El tiempo de espera promedio en la línea de producción es de {tiempo_espera:.2f} horas.\")\n"
      ],
      "metadata": {
        "colab": {
          "base_uri": "https://localhost:8080/"
        },
        "id": "7ry_YWcxV48r",
        "outputId": "b40e255d-45d3-458b-e5bd-d6fc33e7543c"
      },
      "execution_count": null,
      "outputs": [
        {
          "output_type": "stream",
          "name": "stdout",
          "text": [
            "El tiempo de espera promedio en la línea de producción es de 0.60 horas.\n"
          ]
        }
      ]
    },
    {
      "cell_type": "markdown",
      "source": [
        "Esto significa que, en promedio, un producto pasa aproximadamente 0.60 horas (o 36 minutos) esperando en la línea de producción antes de ser ensamblado debido a las variaciones en los tiempos de ensamblaje. Esto podría deberse a factores como la variabilidad en la complejidad de los productos que se ensamblan o a interrupciones inesperadas en la línea de producción.\n",
        "\n",
        "La información sobre el tiempo de espera promedio es esencial para la gestión de la producción, ya que permite a la empresa optimizar sus procesos, asignar recursos de manera eficiente y garantizar que los productos se ensamblen de manera oportuna para satisfacer la demanda del mercado y mejorar la eficiencia en la línea de producción. En este caso, conocer que el tiempo de espera promedio es de 0.60 horas podría llevar a tomar medidas para reducir este tiempo y mejorar la productividad."
      ],
      "metadata": {
        "id": "61Oecam6WFCC"
      }
    }
  ]
}